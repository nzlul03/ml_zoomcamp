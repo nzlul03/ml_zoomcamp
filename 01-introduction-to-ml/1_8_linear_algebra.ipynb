{
  "nbformat": 4,
  "nbformat_minor": 0,
  "metadata": {
    "colab": {
      "provenance": [],
      "authorship_tag": "ABX9TyP7CkHE3C55bgmY257wtDSb"
    },
    "kernelspec": {
      "name": "python3",
      "display_name": "Python 3"
    },
    "language_info": {
      "name": "python"
    },
    "accelerator": "GPU",
    "gpuClass": "standard"
  },
  "cells": [
    {
      "cell_type": "markdown",
      "source": [
        "# Machine Learning Zoomcamp\n"
      ],
      "metadata": {
        "id": "B1xgZEQiLyfO"
      }
    },
    {
      "cell_type": "markdown",
      "source": [
        "## 1.8 Linear algebra refresher"
      ],
      "metadata": {
        "id": "RLm9nSQqL62u"
      }
    },
    {
      "cell_type": "markdown",
      "source": [
        "- Vector operations\n",
        "- Multiplication\n",
        "  - Vector - vector multiplication\n",
        "  - Matrix - vector multiplication\n",
        "  - Matrix - matrix multiplication\n",
        "- Identity matrix\n",
        "- Inverse"
      ],
      "metadata": {
        "id": "Xdo0cWOpL-T0"
      }
    },
    {
      "cell_type": "code",
      "execution_count": 1,
      "metadata": {
        "id": "7Ea8j43RLqLE"
      },
      "outputs": [],
      "source": [
        "import numpy as np"
      ]
    },
    {
      "cell_type": "markdown",
      "source": [
        "## 1) Vector operations"
      ],
      "metadata": {
        "id": "oM0ICk1sNT3g"
      }
    },
    {
      "cell_type": "code",
      "source": [
        "u = np.array([2, 4, 5, 6])"
      ],
      "metadata": {
        "id": "5iMzdnt3LqnY"
      },
      "execution_count": 2,
      "outputs": []
    },
    {
      "cell_type": "code",
      "source": [
        "2 * u"
      ],
      "metadata": {
        "colab": {
          "base_uri": "https://localhost:8080/"
        },
        "id": "yQkDReNULqqT",
        "outputId": "533d1541-a6b0-463c-f785-8d869e7a6d8c"
      },
      "execution_count": 3,
      "outputs": [
        {
          "output_type": "execute_result",
          "data": {
            "text/plain": [
              "array([ 4,  8, 10, 12])"
            ]
          },
          "metadata": {},
          "execution_count": 3
        }
      ]
    },
    {
      "cell_type": "code",
      "source": [
        "v = np.array([1, 0, 0, 2])"
      ],
      "metadata": {
        "id": "xVcsRyB1Lqtg"
      },
      "execution_count": 4,
      "outputs": []
    },
    {
      "cell_type": "code",
      "source": [
        "u + v"
      ],
      "metadata": {
        "colab": {
          "base_uri": "https://localhost:8080/"
        },
        "id": "yCVlIHvBLqwx",
        "outputId": "66a87c6b-6f09-445b-8fb3-1c5933ceaf4b"
      },
      "execution_count": 5,
      "outputs": [
        {
          "output_type": "execute_result",
          "data": {
            "text/plain": [
              "array([3, 4, 5, 8])"
            ]
          },
          "metadata": {},
          "execution_count": 5
        }
      ]
    },
    {
      "cell_type": "code",
      "source": [
        "u * v"
      ],
      "metadata": {
        "colab": {
          "base_uri": "https://localhost:8080/"
        },
        "id": "7yptWXqeLq0L",
        "outputId": "abd0763e-bc90-4d32-c3aa-de451eeddaff"
      },
      "execution_count": 6,
      "outputs": [
        {
          "output_type": "execute_result",
          "data": {
            "text/plain": [
              "array([ 2,  0,  0, 12])"
            ]
          },
          "metadata": {},
          "execution_count": 6
        }
      ]
    },
    {
      "cell_type": "markdown",
      "source": [
        "## 2) Multiplication"
      ],
      "metadata": {
        "id": "f7bXJ6siNmmU"
      }
    },
    {
      "cell_type": "code",
      "source": [
        "v.shape[0]"
      ],
      "metadata": {
        "colab": {
          "base_uri": "https://localhost:8080/"
        },
        "id": "JF1e17pQNlJw",
        "outputId": "ce2fba5c-bb8f-46d0-8c03-7b23eeefa204"
      },
      "execution_count": 7,
      "outputs": [
        {
          "output_type": "execute_result",
          "data": {
            "text/plain": [
              "4"
            ]
          },
          "metadata": {},
          "execution_count": 7
        }
      ]
    },
    {
      "cell_type": "code",
      "source": [
        "u"
      ],
      "metadata": {
        "colab": {
          "base_uri": "https://localhost:8080/"
        },
        "id": "cJVMdxl-OBk7",
        "outputId": "91d2d659-d9d9-4041-b6d5-8ecd3f15ca5a"
      },
      "execution_count": 9,
      "outputs": [
        {
          "output_type": "execute_result",
          "data": {
            "text/plain": [
              "array([2, 4, 5, 6])"
            ]
          },
          "metadata": {},
          "execution_count": 9
        }
      ]
    },
    {
      "cell_type": "code",
      "source": [
        "v"
      ],
      "metadata": {
        "colab": {
          "base_uri": "https://localhost:8080/"
        },
        "id": "72R1TMZKOCYX",
        "outputId": "2dae87ce-9393-452f-faa2-75a1f26e83f8"
      },
      "execution_count": 10,
      "outputs": [
        {
          "output_type": "execute_result",
          "data": {
            "text/plain": [
              "array([1, 0, 0, 2])"
            ]
          },
          "metadata": {},
          "execution_count": 10
        }
      ]
    },
    {
      "cell_type": "markdown",
      "source": [
        "### 2.1 Vector - vector multiplication"
      ],
      "metadata": {
        "id": "65OLy6ksO94t"
      }
    },
    {
      "cell_type": "code",
      "source": [
        "def vector_vector_multiplication(u, v):\n",
        "  # make sure the vector have the same size\n",
        "  assert u.shape[0] == v.shape[0]\n",
        "  \n",
        "  # n = the number of the element\n",
        "  n = u.shape[0]\n",
        "\n",
        "  result = 0.0\n",
        "\n",
        "  # loop\n",
        "  for i in range(n):\n",
        "    result = result + u[i] * v[i]\n",
        "\n",
        "  \n",
        "  return result"
      ],
      "metadata": {
        "id": "qwxWA4tlNpeB"
      },
      "execution_count": 8,
      "outputs": []
    },
    {
      "cell_type": "code",
      "source": [
        "vector_vector_multiplication(u, v)"
      ],
      "metadata": {
        "colab": {
          "base_uri": "https://localhost:8080/"
        },
        "id": "crB70udrNubg",
        "outputId": "14a4c9da-c5ec-41fe-92ed-50f3caf68123"
      },
      "execution_count": 11,
      "outputs": [
        {
          "output_type": "execute_result",
          "data": {
            "text/plain": [
              "14.0"
            ]
          },
          "metadata": {},
          "execution_count": 11
        }
      ]
    },
    {
      "cell_type": "code",
      "source": [
        "u.dot(v)"
      ],
      "metadata": {
        "colab": {
          "base_uri": "https://localhost:8080/"
        },
        "id": "Sr8LjmKaNueB",
        "outputId": "1b639f36-f667-4c1c-c299-f3c800496ebb"
      },
      "execution_count": 12,
      "outputs": [
        {
          "output_type": "execute_result",
          "data": {
            "text/plain": [
              "14"
            ]
          },
          "metadata": {},
          "execution_count": 12
        }
      ]
    },
    {
      "cell_type": "markdown",
      "source": [
        "### 2.2 Matrix - vector multiplication"
      ],
      "metadata": {
        "id": "jBBWmQNWPD8w"
      }
    },
    {
      "cell_type": "code",
      "source": [
        "U = np.array([\n",
        "    [2, 4, 5, 6],\n",
        "    [1, 2, 1, 2],\n",
        "    [3, 1, 2, 1]\n",
        "])"
      ],
      "metadata": {
        "id": "rliW3MU9Nugb"
      },
      "execution_count": 13,
      "outputs": []
    },
    {
      "cell_type": "code",
      "source": [
        "U"
      ],
      "metadata": {
        "colab": {
          "base_uri": "https://localhost:8080/"
        },
        "id": "KsmjG7hLXAmz",
        "outputId": "c975e0c7-ee4e-444b-ff3b-8749c6c6b924"
      },
      "execution_count": 36,
      "outputs": [
        {
          "output_type": "execute_result",
          "data": {
            "text/plain": [
              "array([[2, 4, 5, 6],\n",
              "       [1, 2, 1, 2],\n",
              "       [3, 1, 2, 1]])"
            ]
          },
          "metadata": {},
          "execution_count": 36
        }
      ]
    },
    {
      "cell_type": "code",
      "source": [
        "U.shape"
      ],
      "metadata": {
        "colab": {
          "base_uri": "https://localhost:8080/"
        },
        "id": "d0ny0bTZOKIl",
        "outputId": "7024285f-f3a8-4858-be53-ebb4172b7e67"
      },
      "execution_count": 14,
      "outputs": [
        {
          "output_type": "execute_result",
          "data": {
            "text/plain": [
              "(3, 4)"
            ]
          },
          "metadata": {},
          "execution_count": 14
        }
      ]
    },
    {
      "cell_type": "code",
      "source": [
        "def matrix_vector_multiplication(U, v):\n",
        "  # make sure the vector have the same size (number of column u = number of row of V)\n",
        "  assert U.shape[1] == v.shape[0]\n",
        "\n",
        "  # n = the number of the column of u\n",
        "  num_rows = U.shape[0]\n",
        "\n",
        "  result = np.zeros(num_rows)\n",
        "\n",
        "  # loop\n",
        "  for i in range(num_rows):\n",
        "    result[i] = vector_vector_multiplication(U[i], v)\n",
        "  \n",
        "  return result"
      ],
      "metadata": {
        "id": "ZQsqUnglOKKo"
      },
      "execution_count": 15,
      "outputs": []
    },
    {
      "cell_type": "code",
      "source": [
        "matrix_vector_multiplication(U, v)"
      ],
      "metadata": {
        "colab": {
          "base_uri": "https://localhost:8080/"
        },
        "id": "z97lQ4hrOKMu",
        "outputId": "280298b8-01f3-46c2-e20d-bc3994fcac36"
      },
      "execution_count": 16,
      "outputs": [
        {
          "output_type": "execute_result",
          "data": {
            "text/plain": [
              "array([14.,  5.,  5.])"
            ]
          },
          "metadata": {},
          "execution_count": 16
        }
      ]
    },
    {
      "cell_type": "code",
      "source": [
        "U.dot(v)"
      ],
      "metadata": {
        "colab": {
          "base_uri": "https://localhost:8080/"
        },
        "id": "yyg-9dw0OKPJ",
        "outputId": "306c5f8b-2feb-406c-9cc5-60fa856458c7"
      },
      "execution_count": 17,
      "outputs": [
        {
          "output_type": "execute_result",
          "data": {
            "text/plain": [
              "array([14,  5,  5])"
            ]
          },
          "metadata": {},
          "execution_count": 17
        }
      ]
    },
    {
      "cell_type": "markdown",
      "source": [
        "### Matrix - matrix multiplication"
      ],
      "metadata": {
        "id": "yvF0FvVuPKYq"
      }
    },
    {
      "cell_type": "code",
      "source": [
        "V = np.array([\n",
        "    [1, 1, 2],\n",
        "    [0, 0.5, 1], \n",
        "    [0, 2, 1],\n",
        "    [2, 1, 0]\n",
        "])"
      ],
      "metadata": {
        "id": "l_ydzgG6OKRa"
      },
      "execution_count": 23,
      "outputs": []
    },
    {
      "cell_type": "code",
      "source": [
        "def matrix_matrix_multiplication(U, V):\n",
        "    assert U.shape[1] == V.shape[0]\n",
        "    \n",
        "    num_rows = U.shape[0]\n",
        "    num_cols = V.shape[1]\n",
        "    \n",
        "    result = np.zeros((num_rows, num_cols))\n",
        "    \n",
        "    for i in range(num_cols):\n",
        "        vi = V[:, i]\n",
        "        Uvi = matrix_vector_multiplication(U, vi)\n",
        "        result[:, i] = Uvi\n",
        "    \n",
        "    return result"
      ],
      "metadata": {
        "id": "T8FHN2avNujR"
      },
      "execution_count": 26,
      "outputs": []
    },
    {
      "cell_type": "code",
      "source": [
        "matrix_matrix_multiplication(U, V)"
      ],
      "metadata": {
        "colab": {
          "base_uri": "https://localhost:8080/"
        },
        "id": "addkPSpbPMKe",
        "outputId": "62bd2bcf-12e4-436a-8b41-2f641fc0cc44"
      },
      "execution_count": 27,
      "outputs": [
        {
          "output_type": "execute_result",
          "data": {
            "text/plain": [
              "array([[14. , 20. , 13. ],\n",
              "       [ 5. ,  6. ,  5. ],\n",
              "       [ 5. ,  8.5,  9. ]])"
            ]
          },
          "metadata": {},
          "execution_count": 27
        }
      ]
    },
    {
      "cell_type": "code",
      "source": [
        "U.dot(V)"
      ],
      "metadata": {
        "colab": {
          "base_uri": "https://localhost:8080/"
        },
        "id": "SgcHJtNwPMM_",
        "outputId": "7320a7f7-778a-46d7-ee79-05449da9b42b"
      },
      "execution_count": 28,
      "outputs": [
        {
          "output_type": "execute_result",
          "data": {
            "text/plain": [
              "array([[14. , 20. , 13. ],\n",
              "       [ 5. ,  6. ,  5. ],\n",
              "       [ 5. ,  8.5,  9. ]])"
            ]
          },
          "metadata": {},
          "execution_count": 28
        }
      ]
    },
    {
      "cell_type": "markdown",
      "source": [
        "## 3) Identity Matrix"
      ],
      "metadata": {
        "id": "T51rUnNaQIUc"
      }
    },
    {
      "cell_type": "code",
      "source": [
        "I = np.eye(3)"
      ],
      "metadata": {
        "id": "WgZJl2LUQHww"
      },
      "execution_count": 29,
      "outputs": []
    },
    {
      "cell_type": "code",
      "source": [
        "I"
      ],
      "metadata": {
        "colab": {
          "base_uri": "https://localhost:8080/"
        },
        "id": "gFAnwrQ6QHzC",
        "outputId": "4a5308ee-23e0-4c7d-c636-6bd3693f003c"
      },
      "execution_count": 30,
      "outputs": [
        {
          "output_type": "execute_result",
          "data": {
            "text/plain": [
              "array([[1., 0., 0.],\n",
              "       [0., 1., 0.],\n",
              "       [0., 0., 1.]])"
            ]
          },
          "metadata": {},
          "execution_count": 30
        }
      ]
    },
    {
      "cell_type": "code",
      "source": [
        "V"
      ],
      "metadata": {
        "colab": {
          "base_uri": "https://localhost:8080/"
        },
        "id": "vVBMYkPqQH1u",
        "outputId": "7061871e-54e0-44de-b534-d82626faf08c"
      },
      "execution_count": 31,
      "outputs": [
        {
          "output_type": "execute_result",
          "data": {
            "text/plain": [
              "array([[1. , 1. , 2. ],\n",
              "       [0. , 0.5, 1. ],\n",
              "       [0. , 2. , 1. ],\n",
              "       [2. , 1. , 0. ]])"
            ]
          },
          "metadata": {},
          "execution_count": 31
        }
      ]
    },
    {
      "cell_type": "code",
      "source": [
        "V.dot(I)"
      ],
      "metadata": {
        "colab": {
          "base_uri": "https://localhost:8080/"
        },
        "id": "c2tS93cGPMPc",
        "outputId": "25b10acc-ed5a-451f-befd-ced0678a83ff"
      },
      "execution_count": 32,
      "outputs": [
        {
          "output_type": "execute_result",
          "data": {
            "text/plain": [
              "array([[1. , 1. , 2. ],\n",
              "       [0. , 0.5, 1. ],\n",
              "       [0. , 2. , 1. ],\n",
              "       [2. , 1. , 0. ]])"
            ]
          },
          "metadata": {},
          "execution_count": 32
        }
      ]
    },
    {
      "cell_type": "markdown",
      "source": [
        "## 4) Inverse"
      ],
      "metadata": {
        "id": "psrmEC1pQUg6"
      }
    },
    {
      "cell_type": "code",
      "source": [
        "Vs = V[[0, 1, 2]]\n",
        "Vs"
      ],
      "metadata": {
        "colab": {
          "base_uri": "https://localhost:8080/"
        },
        "id": "HzY7V65_PMRn",
        "outputId": "6558f5df-6e28-4fa5-fe7f-52b7ef4f66b0"
      },
      "execution_count": 33,
      "outputs": [
        {
          "output_type": "execute_result",
          "data": {
            "text/plain": [
              "array([[1. , 1. , 2. ],\n",
              "       [0. , 0.5, 1. ],\n",
              "       [0. , 2. , 1. ]])"
            ]
          },
          "metadata": {},
          "execution_count": 33
        }
      ]
    },
    {
      "cell_type": "code",
      "source": [
        "Vs_inv = np.linalg.inv(Vs)\n",
        "Vs_inv"
      ],
      "metadata": {
        "colab": {
          "base_uri": "https://localhost:8080/"
        },
        "id": "ok_lqcNYPMT3",
        "outputId": "d86e6287-696f-4f0b-c2c7-f7448382cf01"
      },
      "execution_count": 34,
      "outputs": [
        {
          "output_type": "execute_result",
          "data": {
            "text/plain": [
              "array([[ 1.        , -2.        ,  0.        ],\n",
              "       [ 0.        , -0.66666667,  0.66666667],\n",
              "       [ 0.        ,  1.33333333, -0.33333333]])"
            ]
          },
          "metadata": {},
          "execution_count": 34
        }
      ]
    },
    {
      "cell_type": "code",
      "source": [
        "Vs_inv.dot(Vs)"
      ],
      "metadata": {
        "colab": {
          "base_uri": "https://localhost:8080/"
        },
        "id": "LoI84tKyPMWY",
        "outputId": "40d753c3-5e1b-4547-9f15-e216e193f256"
      },
      "execution_count": 35,
      "outputs": [
        {
          "output_type": "execute_result",
          "data": {
            "text/plain": [
              "array([[1., 0., 0.],\n",
              "       [0., 1., 0.],\n",
              "       [0., 0., 1.]])"
            ]
          },
          "metadata": {},
          "execution_count": 35
        }
      ]
    }
  ]
}