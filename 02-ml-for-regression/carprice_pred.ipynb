{
  "nbformat": 4,
  "nbformat_minor": 0,
  "metadata": {
    "colab": {
      "provenance": [],
      "collapsed_sections": [
        "QsfRraWGZ4e-",
        "JvX0EhWFua5z",
        "3UcmaUTYaCGD",
        "e0SPGlh9anYj",
        "tJfqTfH_9L7X",
        "bsIU7ZEcEpB4",
        "iA9tGgk_49Av"
      ],
      "authorship_tag": "ABX9TyOvOzMst1S++Pj+8P5cvzf6"
    },
    "kernelspec": {
      "name": "python3",
      "display_name": "Python 3"
    },
    "language_info": {
      "name": "python"
    },
    "accelerator": "GPU",
    "gpuClass": "standard"
  },
  "cells": [
    {
      "cell_type": "code",
      "execution_count": 1,
      "metadata": {
        "id": "8m7y7fPRYr0I"
      },
      "outputs": [],
      "source": [
        "import pandas as pd\n",
        "import numpy as np\n",
        "\n",
        "import seaborn as sns\n",
        "from matplotlib import pyplot as plt\n",
        "\n",
        "%matplotlib inline"
      ]
    },
    {
      "cell_type": "markdown",
      "source": [
        "# 1. Import Dataset"
      ],
      "metadata": {
        "id": "QsfRraWGZ4e-"
      }
    },
    {
      "cell_type": "code",
      "source": [
        "df = pd.read_csv('https://raw.githubusercontent.com/alexeygrigorev/mlbookcamp-code/master/chapter-02-car-price/data.csv')\n",
        "df.head()"
      ],
      "metadata": {
        "colab": {
          "base_uri": "https://localhost:8080/",
          "height": 478
        },
        "id": "Ra_dVqW2Y2HM",
        "outputId": "53e4093b-b150-45af-93c7-d6336496b889"
      },
      "execution_count": 2,
      "outputs": [
        {
          "output_type": "execute_result",
          "data": {
            "text/plain": [
              "  Make       Model  Year             Engine Fuel Type  Engine HP  \\\n",
              "0  BMW  1 Series M  2011  premium unleaded (required)      335.0   \n",
              "1  BMW    1 Series  2011  premium unleaded (required)      300.0   \n",
              "2  BMW    1 Series  2011  premium unleaded (required)      300.0   \n",
              "3  BMW    1 Series  2011  premium unleaded (required)      230.0   \n",
              "4  BMW    1 Series  2011  premium unleaded (required)      230.0   \n",
              "\n",
              "   Engine Cylinders Transmission Type     Driven_Wheels  Number of Doors  \\\n",
              "0               6.0            MANUAL  rear wheel drive              2.0   \n",
              "1               6.0            MANUAL  rear wheel drive              2.0   \n",
              "2               6.0            MANUAL  rear wheel drive              2.0   \n",
              "3               6.0            MANUAL  rear wheel drive              2.0   \n",
              "4               6.0            MANUAL  rear wheel drive              2.0   \n",
              "\n",
              "                         Market Category Vehicle Size Vehicle Style  \\\n",
              "0  Factory Tuner,Luxury,High-Performance      Compact         Coupe   \n",
              "1                     Luxury,Performance      Compact   Convertible   \n",
              "2                Luxury,High-Performance      Compact         Coupe   \n",
              "3                     Luxury,Performance      Compact         Coupe   \n",
              "4                                 Luxury      Compact   Convertible   \n",
              "\n",
              "   highway MPG  city mpg  Popularity   MSRP  \n",
              "0           26        19        3916  46135  \n",
              "1           28        19        3916  40650  \n",
              "2           28        20        3916  36350  \n",
              "3           28        18        3916  29450  \n",
              "4           28        18        3916  34500  "
            ],
            "text/html": [
              "\n",
              "  <div id=\"df-cd801757-9b59-48ae-8921-9f9d313bd7b4\">\n",
              "    <div class=\"colab-df-container\">\n",
              "      <div>\n",
              "<style scoped>\n",
              "    .dataframe tbody tr th:only-of-type {\n",
              "        vertical-align: middle;\n",
              "    }\n",
              "\n",
              "    .dataframe tbody tr th {\n",
              "        vertical-align: top;\n",
              "    }\n",
              "\n",
              "    .dataframe thead th {\n",
              "        text-align: right;\n",
              "    }\n",
              "</style>\n",
              "<table border=\"1\" class=\"dataframe\">\n",
              "  <thead>\n",
              "    <tr style=\"text-align: right;\">\n",
              "      <th></th>\n",
              "      <th>Make</th>\n",
              "      <th>Model</th>\n",
              "      <th>Year</th>\n",
              "      <th>Engine Fuel Type</th>\n",
              "      <th>Engine HP</th>\n",
              "      <th>Engine Cylinders</th>\n",
              "      <th>Transmission Type</th>\n",
              "      <th>Driven_Wheels</th>\n",
              "      <th>Number of Doors</th>\n",
              "      <th>Market Category</th>\n",
              "      <th>Vehicle Size</th>\n",
              "      <th>Vehicle Style</th>\n",
              "      <th>highway MPG</th>\n",
              "      <th>city mpg</th>\n",
              "      <th>Popularity</th>\n",
              "      <th>MSRP</th>\n",
              "    </tr>\n",
              "  </thead>\n",
              "  <tbody>\n",
              "    <tr>\n",
              "      <th>0</th>\n",
              "      <td>BMW</td>\n",
              "      <td>1 Series M</td>\n",
              "      <td>2011</td>\n",
              "      <td>premium unleaded (required)</td>\n",
              "      <td>335.0</td>\n",
              "      <td>6.0</td>\n",
              "      <td>MANUAL</td>\n",
              "      <td>rear wheel drive</td>\n",
              "      <td>2.0</td>\n",
              "      <td>Factory Tuner,Luxury,High-Performance</td>\n",
              "      <td>Compact</td>\n",
              "      <td>Coupe</td>\n",
              "      <td>26</td>\n",
              "      <td>19</td>\n",
              "      <td>3916</td>\n",
              "      <td>46135</td>\n",
              "    </tr>\n",
              "    <tr>\n",
              "      <th>1</th>\n",
              "      <td>BMW</td>\n",
              "      <td>1 Series</td>\n",
              "      <td>2011</td>\n",
              "      <td>premium unleaded (required)</td>\n",
              "      <td>300.0</td>\n",
              "      <td>6.0</td>\n",
              "      <td>MANUAL</td>\n",
              "      <td>rear wheel drive</td>\n",
              "      <td>2.0</td>\n",
              "      <td>Luxury,Performance</td>\n",
              "      <td>Compact</td>\n",
              "      <td>Convertible</td>\n",
              "      <td>28</td>\n",
              "      <td>19</td>\n",
              "      <td>3916</td>\n",
              "      <td>40650</td>\n",
              "    </tr>\n",
              "    <tr>\n",
              "      <th>2</th>\n",
              "      <td>BMW</td>\n",
              "      <td>1 Series</td>\n",
              "      <td>2011</td>\n",
              "      <td>premium unleaded (required)</td>\n",
              "      <td>300.0</td>\n",
              "      <td>6.0</td>\n",
              "      <td>MANUAL</td>\n",
              "      <td>rear wheel drive</td>\n",
              "      <td>2.0</td>\n",
              "      <td>Luxury,High-Performance</td>\n",
              "      <td>Compact</td>\n",
              "      <td>Coupe</td>\n",
              "      <td>28</td>\n",
              "      <td>20</td>\n",
              "      <td>3916</td>\n",
              "      <td>36350</td>\n",
              "    </tr>\n",
              "    <tr>\n",
              "      <th>3</th>\n",
              "      <td>BMW</td>\n",
              "      <td>1 Series</td>\n",
              "      <td>2011</td>\n",
              "      <td>premium unleaded (required)</td>\n",
              "      <td>230.0</td>\n",
              "      <td>6.0</td>\n",
              "      <td>MANUAL</td>\n",
              "      <td>rear wheel drive</td>\n",
              "      <td>2.0</td>\n",
              "      <td>Luxury,Performance</td>\n",
              "      <td>Compact</td>\n",
              "      <td>Coupe</td>\n",
              "      <td>28</td>\n",
              "      <td>18</td>\n",
              "      <td>3916</td>\n",
              "      <td>29450</td>\n",
              "    </tr>\n",
              "    <tr>\n",
              "      <th>4</th>\n",
              "      <td>BMW</td>\n",
              "      <td>1 Series</td>\n",
              "      <td>2011</td>\n",
              "      <td>premium unleaded (required)</td>\n",
              "      <td>230.0</td>\n",
              "      <td>6.0</td>\n",
              "      <td>MANUAL</td>\n",
              "      <td>rear wheel drive</td>\n",
              "      <td>2.0</td>\n",
              "      <td>Luxury</td>\n",
              "      <td>Compact</td>\n",
              "      <td>Convertible</td>\n",
              "      <td>28</td>\n",
              "      <td>18</td>\n",
              "      <td>3916</td>\n",
              "      <td>34500</td>\n",
              "    </tr>\n",
              "  </tbody>\n",
              "</table>\n",
              "</div>\n",
              "      <button class=\"colab-df-convert\" onclick=\"convertToInteractive('df-cd801757-9b59-48ae-8921-9f9d313bd7b4')\"\n",
              "              title=\"Convert this dataframe to an interactive table.\"\n",
              "              style=\"display:none;\">\n",
              "        \n",
              "  <svg xmlns=\"http://www.w3.org/2000/svg\" height=\"24px\"viewBox=\"0 0 24 24\"\n",
              "       width=\"24px\">\n",
              "    <path d=\"M0 0h24v24H0V0z\" fill=\"none\"/>\n",
              "    <path d=\"M18.56 5.44l.94 2.06.94-2.06 2.06-.94-2.06-.94-.94-2.06-.94 2.06-2.06.94zm-11 1L8.5 8.5l.94-2.06 2.06-.94-2.06-.94L8.5 2.5l-.94 2.06-2.06.94zm10 10l.94 2.06.94-2.06 2.06-.94-2.06-.94-.94-2.06-.94 2.06-2.06.94z\"/><path d=\"M17.41 7.96l-1.37-1.37c-.4-.4-.92-.59-1.43-.59-.52 0-1.04.2-1.43.59L10.3 9.45l-7.72 7.72c-.78.78-.78 2.05 0 2.83L4 21.41c.39.39.9.59 1.41.59.51 0 1.02-.2 1.41-.59l7.78-7.78 2.81-2.81c.8-.78.8-2.07 0-2.86zM5.41 20L4 18.59l7.72-7.72 1.47 1.35L5.41 20z\"/>\n",
              "  </svg>\n",
              "      </button>\n",
              "      \n",
              "  <style>\n",
              "    .colab-df-container {\n",
              "      display:flex;\n",
              "      flex-wrap:wrap;\n",
              "      gap: 12px;\n",
              "    }\n",
              "\n",
              "    .colab-df-convert {\n",
              "      background-color: #E8F0FE;\n",
              "      border: none;\n",
              "      border-radius: 50%;\n",
              "      cursor: pointer;\n",
              "      display: none;\n",
              "      fill: #1967D2;\n",
              "      height: 32px;\n",
              "      padding: 0 0 0 0;\n",
              "      width: 32px;\n",
              "    }\n",
              "\n",
              "    .colab-df-convert:hover {\n",
              "      background-color: #E2EBFA;\n",
              "      box-shadow: 0px 1px 2px rgba(60, 64, 67, 0.3), 0px 1px 3px 1px rgba(60, 64, 67, 0.15);\n",
              "      fill: #174EA6;\n",
              "    }\n",
              "\n",
              "    [theme=dark] .colab-df-convert {\n",
              "      background-color: #3B4455;\n",
              "      fill: #D2E3FC;\n",
              "    }\n",
              "\n",
              "    [theme=dark] .colab-df-convert:hover {\n",
              "      background-color: #434B5C;\n",
              "      box-shadow: 0px 1px 3px 1px rgba(0, 0, 0, 0.15);\n",
              "      filter: drop-shadow(0px 1px 2px rgba(0, 0, 0, 0.3));\n",
              "      fill: #FFFFFF;\n",
              "    }\n",
              "  </style>\n",
              "\n",
              "      <script>\n",
              "        const buttonEl =\n",
              "          document.querySelector('#df-cd801757-9b59-48ae-8921-9f9d313bd7b4 button.colab-df-convert');\n",
              "        buttonEl.style.display =\n",
              "          google.colab.kernel.accessAllowed ? 'block' : 'none';\n",
              "\n",
              "        async function convertToInteractive(key) {\n",
              "          const element = document.querySelector('#df-cd801757-9b59-48ae-8921-9f9d313bd7b4');\n",
              "          const dataTable =\n",
              "            await google.colab.kernel.invokeFunction('convertToInteractive',\n",
              "                                                     [key], {});\n",
              "          if (!dataTable) return;\n",
              "\n",
              "          const docLinkHtml = 'Like what you see? Visit the ' +\n",
              "            '<a target=\"_blank\" href=https://colab.research.google.com/notebooks/data_table.ipynb>data table notebook</a>'\n",
              "            + ' to learn more about interactive tables.';\n",
              "          element.innerHTML = '';\n",
              "          dataTable['output_type'] = 'display_data';\n",
              "          await google.colab.output.renderOutput(dataTable, element);\n",
              "          const docLink = document.createElement('div');\n",
              "          docLink.innerHTML = docLinkHtml;\n",
              "          element.appendChild(docLink);\n",
              "        }\n",
              "      </script>\n",
              "    </div>\n",
              "  </div>\n",
              "  "
            ]
          },
          "metadata": {},
          "execution_count": 2
        }
      ]
    },
    {
      "cell_type": "markdown",
      "source": [
        "# 2.2. Data Preparation"
      ],
      "metadata": {
        "id": "JvX0EhWFua5z"
      }
    },
    {
      "cell_type": "code",
      "source": [
        "df.columns.str.lower().str.replace(' ', '_')"
      ],
      "metadata": {
        "colab": {
          "base_uri": "https://localhost:8080/"
        },
        "id": "Rnbgd74JvQ-5",
        "outputId": "4f2eb062-0e59-43d5-de9a-6a499e817bd7"
      },
      "execution_count": 3,
      "outputs": [
        {
          "output_type": "execute_result",
          "data": {
            "text/plain": [
              "Index(['make', 'model', 'year', 'engine_fuel_type', 'engine_hp',\n",
              "       'engine_cylinders', 'transmission_type', 'driven_wheels',\n",
              "       'number_of_doors', 'market_category', 'vehicle_size', 'vehicle_style',\n",
              "       'highway_mpg', 'city_mpg', 'popularity', 'msrp'],\n",
              "      dtype='object')"
            ]
          },
          "metadata": {},
          "execution_count": 3
        }
      ]
    },
    {
      "cell_type": "code",
      "source": [
        "df.columns = df.columns.str.lower().str.replace(' ', '_')\n",
        "\n",
        "string_columns = list(df.dtypes[df.dtypes == 'object'].index)\n",
        "\n",
        "for col in string_columns:\n",
        "    df[col] = df[col].str.lower().str.replace(' ', '_')"
      ],
      "metadata": {
        "id": "cu38h6dEaFGc"
      },
      "execution_count": 4,
      "outputs": []
    },
    {
      "cell_type": "code",
      "source": [
        "df"
      ],
      "metadata": {
        "colab": {
          "base_uri": "https://localhost:8080/",
          "height": 0
        },
        "id": "IZh-jfegvcXU",
        "outputId": "c3351bee-674d-4ad6-f2d1-02d10fa27fc5"
      },
      "execution_count": 5,
      "outputs": [
        {
          "output_type": "execute_result",
          "data": {
            "text/plain": [
              "          make       model  year                engine_fuel_type  engine_hp  \\\n",
              "0          bmw  1_series_m  2011     premium_unleaded_(required)      335.0   \n",
              "1          bmw    1_series  2011     premium_unleaded_(required)      300.0   \n",
              "2          bmw    1_series  2011     premium_unleaded_(required)      300.0   \n",
              "3          bmw    1_series  2011     premium_unleaded_(required)      230.0   \n",
              "4          bmw    1_series  2011     premium_unleaded_(required)      230.0   \n",
              "...        ...         ...   ...                             ...        ...   \n",
              "11909    acura         zdx  2012     premium_unleaded_(required)      300.0   \n",
              "11910    acura         zdx  2012     premium_unleaded_(required)      300.0   \n",
              "11911    acura         zdx  2012     premium_unleaded_(required)      300.0   \n",
              "11912    acura         zdx  2013  premium_unleaded_(recommended)      300.0   \n",
              "11913  lincoln      zephyr  2006                regular_unleaded      221.0   \n",
              "\n",
              "       engine_cylinders transmission_type      driven_wheels  number_of_doors  \\\n",
              "0                   6.0            manual   rear_wheel_drive              2.0   \n",
              "1                   6.0            manual   rear_wheel_drive              2.0   \n",
              "2                   6.0            manual   rear_wheel_drive              2.0   \n",
              "3                   6.0            manual   rear_wheel_drive              2.0   \n",
              "4                   6.0            manual   rear_wheel_drive              2.0   \n",
              "...                 ...               ...                ...              ...   \n",
              "11909               6.0         automatic    all_wheel_drive              4.0   \n",
              "11910               6.0         automatic    all_wheel_drive              4.0   \n",
              "11911               6.0         automatic    all_wheel_drive              4.0   \n",
              "11912               6.0         automatic    all_wheel_drive              4.0   \n",
              "11913               6.0         automatic  front_wheel_drive              4.0   \n",
              "\n",
              "                             market_category vehicle_size  vehicle_style  \\\n",
              "0      factory_tuner,luxury,high-performance      compact          coupe   \n",
              "1                         luxury,performance      compact    convertible   \n",
              "2                    luxury,high-performance      compact          coupe   \n",
              "3                         luxury,performance      compact          coupe   \n",
              "4                                     luxury      compact    convertible   \n",
              "...                                      ...          ...            ...   \n",
              "11909             crossover,hatchback,luxury      midsize  4dr_hatchback   \n",
              "11910             crossover,hatchback,luxury      midsize  4dr_hatchback   \n",
              "11911             crossover,hatchback,luxury      midsize  4dr_hatchback   \n",
              "11912             crossover,hatchback,luxury      midsize  4dr_hatchback   \n",
              "11913                                 luxury      midsize          sedan   \n",
              "\n",
              "       highway_mpg  city_mpg  popularity   msrp  \n",
              "0               26        19        3916  46135  \n",
              "1               28        19        3916  40650  \n",
              "2               28        20        3916  36350  \n",
              "3               28        18        3916  29450  \n",
              "4               28        18        3916  34500  \n",
              "...            ...       ...         ...    ...  \n",
              "11909           23        16         204  46120  \n",
              "11910           23        16         204  56670  \n",
              "11911           23        16         204  50620  \n",
              "11912           23        16         204  50920  \n",
              "11913           26        17          61  28995  \n",
              "\n",
              "[11914 rows x 16 columns]"
            ],
            "text/html": [
              "\n",
              "  <div id=\"df-68439b91-5fdf-46bd-bfcb-3584ddf98d01\">\n",
              "    <div class=\"colab-df-container\">\n",
              "      <div>\n",
              "<style scoped>\n",
              "    .dataframe tbody tr th:only-of-type {\n",
              "        vertical-align: middle;\n",
              "    }\n",
              "\n",
              "    .dataframe tbody tr th {\n",
              "        vertical-align: top;\n",
              "    }\n",
              "\n",
              "    .dataframe thead th {\n",
              "        text-align: right;\n",
              "    }\n",
              "</style>\n",
              "<table border=\"1\" class=\"dataframe\">\n",
              "  <thead>\n",
              "    <tr style=\"text-align: right;\">\n",
              "      <th></th>\n",
              "      <th>make</th>\n",
              "      <th>model</th>\n",
              "      <th>year</th>\n",
              "      <th>engine_fuel_type</th>\n",
              "      <th>engine_hp</th>\n",
              "      <th>engine_cylinders</th>\n",
              "      <th>transmission_type</th>\n",
              "      <th>driven_wheels</th>\n",
              "      <th>number_of_doors</th>\n",
              "      <th>market_category</th>\n",
              "      <th>vehicle_size</th>\n",
              "      <th>vehicle_style</th>\n",
              "      <th>highway_mpg</th>\n",
              "      <th>city_mpg</th>\n",
              "      <th>popularity</th>\n",
              "      <th>msrp</th>\n",
              "    </tr>\n",
              "  </thead>\n",
              "  <tbody>\n",
              "    <tr>\n",
              "      <th>0</th>\n",
              "      <td>bmw</td>\n",
              "      <td>1_series_m</td>\n",
              "      <td>2011</td>\n",
              "      <td>premium_unleaded_(required)</td>\n",
              "      <td>335.0</td>\n",
              "      <td>6.0</td>\n",
              "      <td>manual</td>\n",
              "      <td>rear_wheel_drive</td>\n",
              "      <td>2.0</td>\n",
              "      <td>factory_tuner,luxury,high-performance</td>\n",
              "      <td>compact</td>\n",
              "      <td>coupe</td>\n",
              "      <td>26</td>\n",
              "      <td>19</td>\n",
              "      <td>3916</td>\n",
              "      <td>46135</td>\n",
              "    </tr>\n",
              "    <tr>\n",
              "      <th>1</th>\n",
              "      <td>bmw</td>\n",
              "      <td>1_series</td>\n",
              "      <td>2011</td>\n",
              "      <td>premium_unleaded_(required)</td>\n",
              "      <td>300.0</td>\n",
              "      <td>6.0</td>\n",
              "      <td>manual</td>\n",
              "      <td>rear_wheel_drive</td>\n",
              "      <td>2.0</td>\n",
              "      <td>luxury,performance</td>\n",
              "      <td>compact</td>\n",
              "      <td>convertible</td>\n",
              "      <td>28</td>\n",
              "      <td>19</td>\n",
              "      <td>3916</td>\n",
              "      <td>40650</td>\n",
              "    </tr>\n",
              "    <tr>\n",
              "      <th>2</th>\n",
              "      <td>bmw</td>\n",
              "      <td>1_series</td>\n",
              "      <td>2011</td>\n",
              "      <td>premium_unleaded_(required)</td>\n",
              "      <td>300.0</td>\n",
              "      <td>6.0</td>\n",
              "      <td>manual</td>\n",
              "      <td>rear_wheel_drive</td>\n",
              "      <td>2.0</td>\n",
              "      <td>luxury,high-performance</td>\n",
              "      <td>compact</td>\n",
              "      <td>coupe</td>\n",
              "      <td>28</td>\n",
              "      <td>20</td>\n",
              "      <td>3916</td>\n",
              "      <td>36350</td>\n",
              "    </tr>\n",
              "    <tr>\n",
              "      <th>3</th>\n",
              "      <td>bmw</td>\n",
              "      <td>1_series</td>\n",
              "      <td>2011</td>\n",
              "      <td>premium_unleaded_(required)</td>\n",
              "      <td>230.0</td>\n",
              "      <td>6.0</td>\n",
              "      <td>manual</td>\n",
              "      <td>rear_wheel_drive</td>\n",
              "      <td>2.0</td>\n",
              "      <td>luxury,performance</td>\n",
              "      <td>compact</td>\n",
              "      <td>coupe</td>\n",
              "      <td>28</td>\n",
              "      <td>18</td>\n",
              "      <td>3916</td>\n",
              "      <td>29450</td>\n",
              "    </tr>\n",
              "    <tr>\n",
              "      <th>4</th>\n",
              "      <td>bmw</td>\n",
              "      <td>1_series</td>\n",
              "      <td>2011</td>\n",
              "      <td>premium_unleaded_(required)</td>\n",
              "      <td>230.0</td>\n",
              "      <td>6.0</td>\n",
              "      <td>manual</td>\n",
              "      <td>rear_wheel_drive</td>\n",
              "      <td>2.0</td>\n",
              "      <td>luxury</td>\n",
              "      <td>compact</td>\n",
              "      <td>convertible</td>\n",
              "      <td>28</td>\n",
              "      <td>18</td>\n",
              "      <td>3916</td>\n",
              "      <td>34500</td>\n",
              "    </tr>\n",
              "    <tr>\n",
              "      <th>...</th>\n",
              "      <td>...</td>\n",
              "      <td>...</td>\n",
              "      <td>...</td>\n",
              "      <td>...</td>\n",
              "      <td>...</td>\n",
              "      <td>...</td>\n",
              "      <td>...</td>\n",
              "      <td>...</td>\n",
              "      <td>...</td>\n",
              "      <td>...</td>\n",
              "      <td>...</td>\n",
              "      <td>...</td>\n",
              "      <td>...</td>\n",
              "      <td>...</td>\n",
              "      <td>...</td>\n",
              "      <td>...</td>\n",
              "    </tr>\n",
              "    <tr>\n",
              "      <th>11909</th>\n",
              "      <td>acura</td>\n",
              "      <td>zdx</td>\n",
              "      <td>2012</td>\n",
              "      <td>premium_unleaded_(required)</td>\n",
              "      <td>300.0</td>\n",
              "      <td>6.0</td>\n",
              "      <td>automatic</td>\n",
              "      <td>all_wheel_drive</td>\n",
              "      <td>4.0</td>\n",
              "      <td>crossover,hatchback,luxury</td>\n",
              "      <td>midsize</td>\n",
              "      <td>4dr_hatchback</td>\n",
              "      <td>23</td>\n",
              "      <td>16</td>\n",
              "      <td>204</td>\n",
              "      <td>46120</td>\n",
              "    </tr>\n",
              "    <tr>\n",
              "      <th>11910</th>\n",
              "      <td>acura</td>\n",
              "      <td>zdx</td>\n",
              "      <td>2012</td>\n",
              "      <td>premium_unleaded_(required)</td>\n",
              "      <td>300.0</td>\n",
              "      <td>6.0</td>\n",
              "      <td>automatic</td>\n",
              "      <td>all_wheel_drive</td>\n",
              "      <td>4.0</td>\n",
              "      <td>crossover,hatchback,luxury</td>\n",
              "      <td>midsize</td>\n",
              "      <td>4dr_hatchback</td>\n",
              "      <td>23</td>\n",
              "      <td>16</td>\n",
              "      <td>204</td>\n",
              "      <td>56670</td>\n",
              "    </tr>\n",
              "    <tr>\n",
              "      <th>11911</th>\n",
              "      <td>acura</td>\n",
              "      <td>zdx</td>\n",
              "      <td>2012</td>\n",
              "      <td>premium_unleaded_(required)</td>\n",
              "      <td>300.0</td>\n",
              "      <td>6.0</td>\n",
              "      <td>automatic</td>\n",
              "      <td>all_wheel_drive</td>\n",
              "      <td>4.0</td>\n",
              "      <td>crossover,hatchback,luxury</td>\n",
              "      <td>midsize</td>\n",
              "      <td>4dr_hatchback</td>\n",
              "      <td>23</td>\n",
              "      <td>16</td>\n",
              "      <td>204</td>\n",
              "      <td>50620</td>\n",
              "    </tr>\n",
              "    <tr>\n",
              "      <th>11912</th>\n",
              "      <td>acura</td>\n",
              "      <td>zdx</td>\n",
              "      <td>2013</td>\n",
              "      <td>premium_unleaded_(recommended)</td>\n",
              "      <td>300.0</td>\n",
              "      <td>6.0</td>\n",
              "      <td>automatic</td>\n",
              "      <td>all_wheel_drive</td>\n",
              "      <td>4.0</td>\n",
              "      <td>crossover,hatchback,luxury</td>\n",
              "      <td>midsize</td>\n",
              "      <td>4dr_hatchback</td>\n",
              "      <td>23</td>\n",
              "      <td>16</td>\n",
              "      <td>204</td>\n",
              "      <td>50920</td>\n",
              "    </tr>\n",
              "    <tr>\n",
              "      <th>11913</th>\n",
              "      <td>lincoln</td>\n",
              "      <td>zephyr</td>\n",
              "      <td>2006</td>\n",
              "      <td>regular_unleaded</td>\n",
              "      <td>221.0</td>\n",
              "      <td>6.0</td>\n",
              "      <td>automatic</td>\n",
              "      <td>front_wheel_drive</td>\n",
              "      <td>4.0</td>\n",
              "      <td>luxury</td>\n",
              "      <td>midsize</td>\n",
              "      <td>sedan</td>\n",
              "      <td>26</td>\n",
              "      <td>17</td>\n",
              "      <td>61</td>\n",
              "      <td>28995</td>\n",
              "    </tr>\n",
              "  </tbody>\n",
              "</table>\n",
              "<p>11914 rows × 16 columns</p>\n",
              "</div>\n",
              "      <button class=\"colab-df-convert\" onclick=\"convertToInteractive('df-68439b91-5fdf-46bd-bfcb-3584ddf98d01')\"\n",
              "              title=\"Convert this dataframe to an interactive table.\"\n",
              "              style=\"display:none;\">\n",
              "        \n",
              "  <svg xmlns=\"http://www.w3.org/2000/svg\" height=\"24px\"viewBox=\"0 0 24 24\"\n",
              "       width=\"24px\">\n",
              "    <path d=\"M0 0h24v24H0V0z\" fill=\"none\"/>\n",
              "    <path d=\"M18.56 5.44l.94 2.06.94-2.06 2.06-.94-2.06-.94-.94-2.06-.94 2.06-2.06.94zm-11 1L8.5 8.5l.94-2.06 2.06-.94-2.06-.94L8.5 2.5l-.94 2.06-2.06.94zm10 10l.94 2.06.94-2.06 2.06-.94-2.06-.94-.94-2.06-.94 2.06-2.06.94z\"/><path d=\"M17.41 7.96l-1.37-1.37c-.4-.4-.92-.59-1.43-.59-.52 0-1.04.2-1.43.59L10.3 9.45l-7.72 7.72c-.78.78-.78 2.05 0 2.83L4 21.41c.39.39.9.59 1.41.59.51 0 1.02-.2 1.41-.59l7.78-7.78 2.81-2.81c.8-.78.8-2.07 0-2.86zM5.41 20L4 18.59l7.72-7.72 1.47 1.35L5.41 20z\"/>\n",
              "  </svg>\n",
              "      </button>\n",
              "      \n",
              "  <style>\n",
              "    .colab-df-container {\n",
              "      display:flex;\n",
              "      flex-wrap:wrap;\n",
              "      gap: 12px;\n",
              "    }\n",
              "\n",
              "    .colab-df-convert {\n",
              "      background-color: #E8F0FE;\n",
              "      border: none;\n",
              "      border-radius: 50%;\n",
              "      cursor: pointer;\n",
              "      display: none;\n",
              "      fill: #1967D2;\n",
              "      height: 32px;\n",
              "      padding: 0 0 0 0;\n",
              "      width: 32px;\n",
              "    }\n",
              "\n",
              "    .colab-df-convert:hover {\n",
              "      background-color: #E2EBFA;\n",
              "      box-shadow: 0px 1px 2px rgba(60, 64, 67, 0.3), 0px 1px 3px 1px rgba(60, 64, 67, 0.15);\n",
              "      fill: #174EA6;\n",
              "    }\n",
              "\n",
              "    [theme=dark] .colab-df-convert {\n",
              "      background-color: #3B4455;\n",
              "      fill: #D2E3FC;\n",
              "    }\n",
              "\n",
              "    [theme=dark] .colab-df-convert:hover {\n",
              "      background-color: #434B5C;\n",
              "      box-shadow: 0px 1px 3px 1px rgba(0, 0, 0, 0.15);\n",
              "      filter: drop-shadow(0px 1px 2px rgba(0, 0, 0, 0.3));\n",
              "      fill: #FFFFFF;\n",
              "    }\n",
              "  </style>\n",
              "\n",
              "      <script>\n",
              "        const buttonEl =\n",
              "          document.querySelector('#df-68439b91-5fdf-46bd-bfcb-3584ddf98d01 button.colab-df-convert');\n",
              "        buttonEl.style.display =\n",
              "          google.colab.kernel.accessAllowed ? 'block' : 'none';\n",
              "\n",
              "        async function convertToInteractive(key) {\n",
              "          const element = document.querySelector('#df-68439b91-5fdf-46bd-bfcb-3584ddf98d01');\n",
              "          const dataTable =\n",
              "            await google.colab.kernel.invokeFunction('convertToInteractive',\n",
              "                                                     [key], {});\n",
              "          if (!dataTable) return;\n",
              "\n",
              "          const docLinkHtml = 'Like what you see? Visit the ' +\n",
              "            '<a target=\"_blank\" href=https://colab.research.google.com/notebooks/data_table.ipynb>data table notebook</a>'\n",
              "            + ' to learn more about interactive tables.';\n",
              "          element.innerHTML = '';\n",
              "          dataTable['output_type'] = 'display_data';\n",
              "          await google.colab.output.renderOutput(dataTable, element);\n",
              "          const docLink = document.createElement('div');\n",
              "          docLink.innerHTML = docLinkHtml;\n",
              "          element.appendChild(docLink);\n",
              "        }\n",
              "      </script>\n",
              "    </div>\n",
              "  </div>\n",
              "  "
            ]
          },
          "metadata": {},
          "execution_count": 5
        }
      ]
    },
    {
      "cell_type": "markdown",
      "source": [
        "# 2.3. Exploratory Data Analysis (EDA)"
      ],
      "metadata": {
        "id": "3UcmaUTYaCGD"
      }
    },
    {
      "cell_type": "code",
      "source": [
        "df.dtypes"
      ],
      "metadata": {
        "colab": {
          "base_uri": "https://localhost:8080/"
        },
        "id": "8POfQNfywFeo",
        "outputId": "1c859d05-bd69-4bfb-a57f-c80780862395"
      },
      "execution_count": 6,
      "outputs": [
        {
          "output_type": "execute_result",
          "data": {
            "text/plain": [
              "make                  object\n",
              "model                 object\n",
              "year                   int64\n",
              "engine_fuel_type      object\n",
              "engine_hp            float64\n",
              "engine_cylinders     float64\n",
              "transmission_type     object\n",
              "driven_wheels         object\n",
              "number_of_doors      float64\n",
              "market_category       object\n",
              "vehicle_size          object\n",
              "vehicle_style         object\n",
              "highway_mpg            int64\n",
              "city_mpg               int64\n",
              "popularity             int64\n",
              "msrp                   int64\n",
              "dtype: object"
            ]
          },
          "metadata": {},
          "execution_count": 6
        }
      ]
    },
    {
      "cell_type": "markdown",
      "source": [
        "Print each values of the columns"
      ],
      "metadata": {
        "id": "dvS9Cv0FxHdm"
      }
    },
    {
      "cell_type": "code",
      "source": [
        "for col in df.columns:\n",
        "  print(col)\n",
        "  print(df[col].head())\n",
        "  print()"
      ],
      "metadata": {
        "colab": {
          "base_uri": "https://localhost:8080/"
        },
        "id": "LLLcdHXRxLWY",
        "outputId": "3d5162b0-af3c-40dc-a0b3-84ba8588b2b5"
      },
      "execution_count": 7,
      "outputs": [
        {
          "output_type": "stream",
          "name": "stdout",
          "text": [
            "make\n",
            "0    bmw\n",
            "1    bmw\n",
            "2    bmw\n",
            "3    bmw\n",
            "4    bmw\n",
            "Name: make, dtype: object\n",
            "\n",
            "model\n",
            "0    1_series_m\n",
            "1      1_series\n",
            "2      1_series\n",
            "3      1_series\n",
            "4      1_series\n",
            "Name: model, dtype: object\n",
            "\n",
            "year\n",
            "0    2011\n",
            "1    2011\n",
            "2    2011\n",
            "3    2011\n",
            "4    2011\n",
            "Name: year, dtype: int64\n",
            "\n",
            "engine_fuel_type\n",
            "0    premium_unleaded_(required)\n",
            "1    premium_unleaded_(required)\n",
            "2    premium_unleaded_(required)\n",
            "3    premium_unleaded_(required)\n",
            "4    premium_unleaded_(required)\n",
            "Name: engine_fuel_type, dtype: object\n",
            "\n",
            "engine_hp\n",
            "0    335.0\n",
            "1    300.0\n",
            "2    300.0\n",
            "3    230.0\n",
            "4    230.0\n",
            "Name: engine_hp, dtype: float64\n",
            "\n",
            "engine_cylinders\n",
            "0    6.0\n",
            "1    6.0\n",
            "2    6.0\n",
            "3    6.0\n",
            "4    6.0\n",
            "Name: engine_cylinders, dtype: float64\n",
            "\n",
            "transmission_type\n",
            "0    manual\n",
            "1    manual\n",
            "2    manual\n",
            "3    manual\n",
            "4    manual\n",
            "Name: transmission_type, dtype: object\n",
            "\n",
            "driven_wheels\n",
            "0    rear_wheel_drive\n",
            "1    rear_wheel_drive\n",
            "2    rear_wheel_drive\n",
            "3    rear_wheel_drive\n",
            "4    rear_wheel_drive\n",
            "Name: driven_wheels, dtype: object\n",
            "\n",
            "number_of_doors\n",
            "0    2.0\n",
            "1    2.0\n",
            "2    2.0\n",
            "3    2.0\n",
            "4    2.0\n",
            "Name: number_of_doors, dtype: float64\n",
            "\n",
            "market_category\n",
            "0    factory_tuner,luxury,high-performance\n",
            "1                       luxury,performance\n",
            "2                  luxury,high-performance\n",
            "3                       luxury,performance\n",
            "4                                   luxury\n",
            "Name: market_category, dtype: object\n",
            "\n",
            "vehicle_size\n",
            "0    compact\n",
            "1    compact\n",
            "2    compact\n",
            "3    compact\n",
            "4    compact\n",
            "Name: vehicle_size, dtype: object\n",
            "\n",
            "vehicle_style\n",
            "0          coupe\n",
            "1    convertible\n",
            "2          coupe\n",
            "3          coupe\n",
            "4    convertible\n",
            "Name: vehicle_style, dtype: object\n",
            "\n",
            "highway_mpg\n",
            "0    26\n",
            "1    28\n",
            "2    28\n",
            "3    28\n",
            "4    28\n",
            "Name: highway_mpg, dtype: int64\n",
            "\n",
            "city_mpg\n",
            "0    19\n",
            "1    19\n",
            "2    20\n",
            "3    18\n",
            "4    18\n",
            "Name: city_mpg, dtype: int64\n",
            "\n",
            "popularity\n",
            "0    3916\n",
            "1    3916\n",
            "2    3916\n",
            "3    3916\n",
            "4    3916\n",
            "Name: popularity, dtype: int64\n",
            "\n",
            "msrp\n",
            "0    46135\n",
            "1    40650\n",
            "2    36350\n",
            "3    29450\n",
            "4    34500\n",
            "Name: msrp, dtype: int64\n",
            "\n"
          ]
        }
      ]
    },
    {
      "cell_type": "markdown",
      "source": [
        "see the unique values"
      ],
      "metadata": {
        "id": "xlMaZoMdx_sb"
      }
    },
    {
      "cell_type": "code",
      "source": [
        "for col in df.columns:\n",
        "  print(col)\n",
        "  print(df[col].unique()[:5])\n",
        "  print(df[col].nunique())\n",
        "  print()"
      ],
      "metadata": {
        "colab": {
          "base_uri": "https://localhost:8080/"
        },
        "id": "-U7F0LKNx_Dq",
        "outputId": "3819fad3-4858-4d05-c009-2c53a26a3284"
      },
      "execution_count": 8,
      "outputs": [
        {
          "output_type": "stream",
          "name": "stdout",
          "text": [
            "make\n",
            "['bmw' 'audi' 'fiat' 'mercedes-benz' 'chrysler']\n",
            "48\n",
            "\n",
            "model\n",
            "['1_series_m' '1_series' '100' '124_spider' '190-class']\n",
            "914\n",
            "\n",
            "year\n",
            "[2011 2012 2013 1992 1993]\n",
            "28\n",
            "\n",
            "engine_fuel_type\n",
            "['premium_unleaded_(required)' 'regular_unleaded'\n",
            " 'premium_unleaded_(recommended)' 'flex-fuel_(unleaded/e85)' 'diesel']\n",
            "10\n",
            "\n",
            "engine_hp\n",
            "[335. 300. 230. 320. 172.]\n",
            "356\n",
            "\n",
            "engine_cylinders\n",
            "[ 6.  4.  5.  8. 12.]\n",
            "9\n",
            "\n",
            "transmission_type\n",
            "['manual' 'automatic' 'automated_manual' 'direct_drive' 'unknown']\n",
            "5\n",
            "\n",
            "driven_wheels\n",
            "['rear_wheel_drive' 'front_wheel_drive' 'all_wheel_drive'\n",
            " 'four_wheel_drive']\n",
            "4\n",
            "\n",
            "number_of_doors\n",
            "[ 2.  4.  3. nan]\n",
            "3\n",
            "\n",
            "market_category\n",
            "['factory_tuner,luxury,high-performance' 'luxury,performance'\n",
            " 'luxury,high-performance' 'luxury' 'performance']\n",
            "71\n",
            "\n",
            "vehicle_size\n",
            "['compact' 'midsize' 'large']\n",
            "3\n",
            "\n",
            "vehicle_style\n",
            "['coupe' 'convertible' 'sedan' 'wagon' '4dr_hatchback']\n",
            "16\n",
            "\n",
            "highway_mpg\n",
            "[26 28 27 25 24]\n",
            "59\n",
            "\n",
            "city_mpg\n",
            "[19 20 18 17 16]\n",
            "69\n",
            "\n",
            "popularity\n",
            "[3916 3105  819  617 1013]\n",
            "48\n",
            "\n",
            "msrp\n",
            "[46135 40650 36350 29450 34500]\n",
            "6049\n",
            "\n"
          ]
        }
      ]
    },
    {
      "cell_type": "markdown",
      "source": [
        "Distribution of Price"
      ],
      "metadata": {
        "id": "NInLgCVWaSkj"
      }
    },
    {
      "cell_type": "code",
      "source": [
        "sns.histplot(df.msrp[df.msrp < 100000], bins=50)"
      ],
      "metadata": {
        "colab": {
          "base_uri": "https://localhost:8080/",
          "height": 0
        },
        "id": "Ix2JiY23aEP4",
        "outputId": "4c0ffee7-ce11-41ea-8779-86ec401f6d24"
      },
      "execution_count": 9,
      "outputs": [
        {
          "output_type": "execute_result",
          "data": {
            "text/plain": [
              "<matplotlib.axes._subplots.AxesSubplot at 0x7fb901e478e0>"
            ]
          },
          "metadata": {},
          "execution_count": 9
        },
        {
          "output_type": "display_data",
          "data": {
            "text/plain": [
              "<Figure size 432x288 with 1 Axes>"
            ],
            "image/png": "[encoded data removed]"
          },
          "metadata": {
            "needs_background": "light"
          }
        }
      ]
    },
    {
      "cell_type": "code",
      "source": [
        "np.log1p([0, 1, 10, 1000, 100000])"
      ],
      "metadata": {
        "colab": {
          "base_uri": "https://localhost:8080/"
        },
        "id": "taOSmU3a0AvK",
        "outputId": "a5462514-95e2-4414-bc8f-4539f9bb499d"
      },
      "execution_count": 10,
      "outputs": [
        {
          "output_type": "execute_result",
          "data": {
            "text/plain": [
              "array([ 0.        ,  0.69314718,  2.39789527,  6.90875478, 11.51293546])"
            ]
          },
          "metadata": {},
          "execution_count": 10
        }
      ]
    },
    {
      "cell_type": "code",
      "source": [
        "np.log([0 + 1, 1 + 1, 10 + 1, 1000 + 1, 100000 + 1])"
      ],
      "metadata": {
        "colab": {
          "base_uri": "https://localhost:8080/"
        },
        "id": "MJ-bENE70Ygj",
        "outputId": "9841aca8-1532-4a57-d709-50c9236874b6"
      },
      "execution_count": 11,
      "outputs": [
        {
          "output_type": "execute_result",
          "data": {
            "text/plain": [
              "array([ 0.        ,  0.69314718,  2.39789527,  6.90875478, 11.51293546])"
            ]
          },
          "metadata": {},
          "execution_count": 11
        }
      ]
    },
    {
      "cell_type": "code",
      "source": [
        "plt.figure(figsize=(6, 4))\n",
        "\n",
        "sns.histplot(df.msrp[df.msrp < 100000], bins=40, color='black', alpha=1)\n",
        "plt.ylabel('Frequency')\n",
        "plt.xlabel('Price')\n",
        "plt.title('Distribution of prices')\n",
        "\n",
        "plt.show()"
      ],
      "metadata": {
        "colab": {
          "base_uri": "https://localhost:8080/",
          "height": 0
        },
        "id": "F2ifnT6nabcH",
        "outputId": "e865dce2-1a63-4bb7-ea23-d185df2237be"
      },
      "execution_count": 12,
      "outputs": [
        {
          "output_type": "display_data",
          "data": {
            "text/plain": [
              "<Figure size 432x288 with 1 Axes>"
            ],
            "image/png": "[encoded data removed]"
          },
          "metadata": {
            "needs_background": "light"
          }
        }
      ]
    },
    {
      "cell_type": "code",
      "source": [
        "price_logs = np.log1p(df.msrp)\n",
        "\n",
        "sns.histplot(price_logs, bins=50)"
      ],
      "metadata": {
        "colab": {
          "base_uri": "https://localhost:8080/",
          "height": 0
        },
        "id": "LLyqJNP80xg-",
        "outputId": "f38583c7-033c-4145-ecbd-d0233c644f30"
      },
      "execution_count": 13,
      "outputs": [
        {
          "output_type": "execute_result",
          "data": {
            "text/plain": [
              "<matplotlib.axes._subplots.AxesSubplot at 0x7fb90225b670>"
            ]
          },
          "metadata": {},
          "execution_count": 13
        },
        {
          "output_type": "display_data",
          "data": {
            "text/plain": [
              "<Figure size 432x288 with 1 Axes>"
            ],
            "image/png": "[encoded data removed]"
          },
          "metadata": {
            "needs_background": "light"
          }
        }
      ]
    },
    {
      "cell_type": "code",
      "source": [
        "plt.figure(figsize=(6, 4))\n",
        "\n",
        "sns.histplot(price_logs, bins=40, color='black', alpha=1)\n",
        "plt.ylabel('Frequency')\n",
        "plt.xlabel('Log(Price + 1)')\n",
        "plt.title('Distribution of prices after log tranformation')\n",
        "\n",
        "plt.show()"
      ],
      "metadata": {
        "colab": {
          "base_uri": "https://localhost:8080/",
          "height": 0
        },
        "id": "3p5EJlUxaf4S",
        "outputId": "dc340a4f-d7d0-4562-b3dc-2632f83747f5"
      },
      "execution_count": 14,
      "outputs": [
        {
          "output_type": "display_data",
          "data": {
            "text/plain": [
              "<Figure size 432x288 with 1 Axes>"
            ],
            "image/png": "[encoded data removed]"
          },
          "metadata": {
            "needs_background": "light"
          }
        }
      ]
    },
    {
      "cell_type": "markdown",
      "source": [
        "**Check Null Values**"
      ],
      "metadata": {
        "id": "z2PDCZUKajSO"
      }
    },
    {
      "cell_type": "code",
      "source": [
        "df.isnull().sum()"
      ],
      "metadata": {
        "colab": {
          "base_uri": "https://localhost:8080/"
        },
        "id": "T9UB5rA6aknk",
        "outputId": "7e918801-3b06-45e4-b513-73aa0c372583"
      },
      "execution_count": 15,
      "outputs": [
        {
          "output_type": "execute_result",
          "data": {
            "text/plain": [
              "make                    0\n",
              "model                   0\n",
              "year                    0\n",
              "engine_fuel_type        3\n",
              "engine_hp              69\n",
              "engine_cylinders       30\n",
              "transmission_type       0\n",
              "driven_wheels           0\n",
              "number_of_doors         6\n",
              "market_category      3742\n",
              "vehicle_size            0\n",
              "vehicle_style           0\n",
              "highway_mpg             0\n",
              "city_mpg                0\n",
              "popularity              0\n",
              "msrp                    0\n",
              "dtype: int64"
            ]
          },
          "metadata": {},
          "execution_count": 15
        }
      ]
    },
    {
      "cell_type": "markdown",
      "source": [
        "# 2.4. Setting up the Validation Framework"
      ],
      "metadata": {
        "id": "e0SPGlh9anYj"
      }
    },
    {
      "cell_type": "code",
      "source": [
        "int(len(df) * 0.2)"
      ],
      "metadata": {
        "colab": {
          "base_uri": "https://localhost:8080/"
        },
        "id": "t0UlSfuh8yAi",
        "outputId": "d9984c13-6158-454c-d5ce-b57742430685"
      },
      "execution_count": 16,
      "outputs": [
        {
          "output_type": "execute_result",
          "data": {
            "text/plain": [
              "2382"
            ]
          },
          "metadata": {},
          "execution_count": 16
        }
      ]
    },
    {
      "cell_type": "code",
      "source": [
        "np.random.seed(2)\n",
        "\n",
        "n = len(df)\n",
        "\n",
        "n_val = int(0.2 * n)\n",
        "n_test = int(0.2 * n)\n",
        "n_train = n - (n_val + n_test)\n",
        "\n",
        "idx = np.arange(n)\n",
        "np.random.shuffle(idx)\n",
        "\n",
        "df_shuffled = df.iloc[idx]\n",
        "\n",
        "df_train = df_shuffled.iloc[:n_train].copy()\n",
        "df_val = df_shuffled.iloc[n_train:n_train+n_val].copy()\n",
        "df_test = df_shuffled.iloc[n_train+n_val:].copy()"
      ],
      "metadata": {
        "id": "JS129w2Taoog"
      },
      "execution_count": 17,
      "outputs": []
    },
    {
      "cell_type": "markdown",
      "source": [
        "Define y (target variables)"
      ],
      "metadata": {
        "id": "TyuNj5VO-en2"
      }
    },
    {
      "cell_type": "code",
      "source": [
        "y_train_orig = df_train.msrp.values\n",
        "y_val_orig = df_val.msrp.values\n",
        "y_test_orig = df_test.msrp.values\n",
        "\n",
        "y_train = np.log1p(df_train.msrp.values)\n",
        "y_val = np.log1p(df_val.msrp.values)\n",
        "y_test = np.log1p(df_test.msrp.values)\n",
        "\n",
        "del df_train['msrp']\n",
        "del df_val['msrp']\n",
        "del df_test['msrp']"
      ],
      "metadata": {
        "id": "nhD5xrYhbkS0"
      },
      "execution_count": 18,
      "outputs": []
    },
    {
      "cell_type": "markdown",
      "source": [
        "# 2.5. Linear Regression"
      ],
      "metadata": {
        "id": "BAHdCYlTb7h-"
      }
    },
    {
      "cell_type": "code",
      "source": [
        "df_train.iloc[10]"
      ],
      "metadata": {
        "colab": {
          "base_uri": "https://localhost:8080/"
        },
        "id": "gYkzqq1TCH9w",
        "outputId": "ff8835a9-8361-4447-df25-09a2d9be0a35"
      },
      "execution_count": 19,
      "outputs": [
        {
          "output_type": "execute_result",
          "data": {
            "text/plain": [
              "make                                 rolls-royce\n",
              "model                     phantom_drophead_coupe\n",
              "year                                        2015\n",
              "engine_fuel_type     premium_unleaded_(required)\n",
              "engine_hp                                  453.0\n",
              "engine_cylinders                            12.0\n",
              "transmission_type                      automatic\n",
              "driven_wheels                   rear_wheel_drive\n",
              "number_of_doors                              2.0\n",
              "market_category        exotic,luxury,performance\n",
              "vehicle_size                               large\n",
              "vehicle_style                        convertible\n",
              "highway_mpg                                   19\n",
              "city_mpg                                      11\n",
              "popularity                                    86\n",
              "Name: 7557, dtype: object"
            ]
          },
          "metadata": {},
          "execution_count": 19
        }
      ]
    },
    {
      "cell_type": "markdown",
      "source": [
        "## Simple Example:"
      ],
      "metadata": {
        "id": "YJRSRDL_ElHu"
      }
    },
    {
      "cell_type": "code",
      "source": [
        "xi = [453, 11, 86]"
      ],
      "metadata": {
        "id": "bs6uuh7yCfWV"
      },
      "execution_count": 20,
      "outputs": []
    },
    {
      "cell_type": "code",
      "source": [
        "w0 = 7.17\n",
        "w = [0.01, 0.04, 0.002]"
      ],
      "metadata": {
        "id": "Un5EEt6WCsss"
      },
      "execution_count": 21,
      "outputs": []
    },
    {
      "cell_type": "code",
      "source": [
        "def linear_regression(xi):\n",
        "  n = len(xi)\n",
        "\n",
        "  pred = w0\n",
        "\n",
        "  for j in range(n):\n",
        "    pred = pred + w[j] * xi[j]\n",
        "\n",
        "  return pred"
      ],
      "metadata": {
        "id": "g5j4vaboDcnJ"
      },
      "execution_count": 22,
      "outputs": []
    },
    {
      "cell_type": "code",
      "source": [
        "linear_regression(xi)"
      ],
      "metadata": {
        "colab": {
          "base_uri": "https://localhost:8080/"
        },
        "id": "vU3N0joPEiaG",
        "outputId": "4c9433e3-89d1-4b71-910c-741e2a94229c"
      },
      "execution_count": 23,
      "outputs": [
        {
          "output_type": "execute_result",
          "data": {
            "text/plain": [
              "12.312"
            ]
          },
          "metadata": {},
          "execution_count": 23
        }
      ]
    },
    {
      "cell_type": "markdown",
      "source": [
        "![image.png](data:image/png;base64,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)"
      ],
      "metadata": {
        "id": "Aupmfi8NFChg"
      }
    },
    {
      "cell_type": "markdown",
      "source": [
        "should be log(y+1)\n"
      ],
      "metadata": {
        "id": "Ugxg2sn9GaWQ"
      }
    },
    {
      "cell_type": "code",
      "source": [
        "np.log(12.312)"
      ],
      "metadata": {
        "colab": {
          "base_uri": "https://localhost:8080/"
        },
        "id": "QWG2XL6EGZOs",
        "outputId": "431d9853-6392-4194-d889-63a3e76f246a"
      },
      "execution_count": 24,
      "outputs": [
        {
          "output_type": "execute_result",
          "data": {
            "text/plain": [
              "2.5105743965365783"
            ]
          },
          "metadata": {},
          "execution_count": 24
        }
      ]
    },
    {
      "cell_type": "markdown",
      "source": [
        "The real price"
      ],
      "metadata": {
        "id": "ygK4qgwhGpX_"
      }
    },
    {
      "cell_type": "code",
      "source": [
        "np.exp(12.312) - 1"
      ],
      "metadata": {
        "colab": {
          "base_uri": "https://localhost:8080/"
        },
        "id": "2gOzxLS5GgAa",
        "outputId": "2a6077cb-9c13-4d48-ccf5-49899792b9b1"
      },
      "execution_count": 25,
      "outputs": [
        {
          "output_type": "execute_result",
          "data": {
            "text/plain": [
              "222347.2221101062"
            ]
          },
          "metadata": {},
          "execution_count": 25
        }
      ]
    },
    {
      "cell_type": "code",
      "source": [
        "np.expm1(12.312)"
      ],
      "metadata": {
        "colab": {
          "base_uri": "https://localhost:8080/"
        },
        "id": "nc9ANTqOGveN",
        "outputId": "ddb1750d-4e28-488f-ab4b-7bdeec1cd8f2"
      },
      "execution_count": 26,
      "outputs": [
        {
          "output_type": "execute_result",
          "data": {
            "text/plain": [
              "222347.2221101062"
            ]
          },
          "metadata": {},
          "execution_count": 26
        }
      ]
    },
    {
      "cell_type": "code",
      "source": [
        "np.log1p(222347.2221101062)"
      ],
      "metadata": {
        "id": "AdJOaCYoGzh4",
        "outputId": "1f4039a0-3b04-43d4-ee1e-632a180cb719",
        "colab": {
          "base_uri": "https://localhost:8080/"
        }
      },
      "execution_count": 27,
      "outputs": [
        {
          "output_type": "execute_result",
          "data": {
            "text/plain": [
              "12.312"
            ]
          },
          "metadata": {},
          "execution_count": 27
        }
      ]
    },
    {
      "cell_type": "markdown",
      "source": [
        "#2.6. Linear Regression on Vector Form"
      ],
      "metadata": {
        "id": "yl876OUtsOWb"
      }
    },
    {
      "cell_type": "code",
      "source": [
        "# dot product\n",
        "\n",
        "def dot(xi, w):\n",
        "  n = len(xi)\n",
        "\n",
        "  res = w0\n",
        "  \n",
        "  for j  in range(n):\n",
        "    res = res + xi[j] * w[j]\n",
        "\n",
        "  return res"
      ],
      "metadata": {
        "id": "6tx0QCTPsRiG"
      },
      "execution_count": 28,
      "outputs": []
    },
    {
      "cell_type": "code",
      "source": [
        "def linear_regression(xi):\n",
        "  return w0 + dot(xi, w)"
      ],
      "metadata": {
        "id": "qe3lfs0csRkd"
      },
      "execution_count": 29,
      "outputs": []
    },
    {
      "cell_type": "code",
      "source": [
        "w_new = [w0] + w"
      ],
      "metadata": {
        "id": "vih0afFHt6gz"
      },
      "execution_count": 30,
      "outputs": []
    },
    {
      "cell_type": "code",
      "source": [
        "[1] + [1, 2, 3]"
      ],
      "metadata": {
        "colab": {
          "base_uri": "https://localhost:8080/"
        },
        "id": "i0GR0_1Ft9de",
        "outputId": "584614df-1cce-4ca9-cb8e-0d55168ec9c6"
      },
      "execution_count": 31,
      "outputs": [
        {
          "output_type": "execute_result",
          "data": {
            "text/plain": [
              "[1, 1, 2, 3]"
            ]
          },
          "metadata": {},
          "execution_count": 31
        }
      ]
    },
    {
      "cell_type": "code",
      "source": [
        "w_new"
      ],
      "metadata": {
        "colab": {
          "base_uri": "https://localhost:8080/"
        },
        "id": "rnCrSJHuuCOj",
        "outputId": "ab13deea-05c7-4085-9759-fb26aba7b80d"
      },
      "execution_count": 32,
      "outputs": [
        {
          "output_type": "execute_result",
          "data": {
            "text/plain": [
              "[7.17, 0.01, 0.04, 0.002]"
            ]
          },
          "metadata": {},
          "execution_count": 32
        }
      ]
    },
    {
      "cell_type": "code",
      "source": [
        "def linear_regression(xi):\n",
        "  xi = [1] + xi\n",
        "\n",
        "  return dot(xi, w_new)"
      ],
      "metadata": {
        "id": "mje8mZfdsRnF"
      },
      "execution_count": 33,
      "outputs": []
    },
    {
      "cell_type": "code",
      "source": [
        "linear_regression(xi)"
      ],
      "metadata": {
        "colab": {
          "base_uri": "https://localhost:8080/"
        },
        "id": "AQ1yMAVZtPVo",
        "outputId": "67e7886e-0cd6-418c-9e77-9f407761ee53"
      },
      "execution_count": 34,
      "outputs": [
        {
          "output_type": "execute_result",
          "data": {
            "text/plain": [
              "19.482000000000003"
            ]
          },
          "metadata": {},
          "execution_count": 34
        }
      ]
    },
    {
      "cell_type": "code",
      "source": [
        "xi = [453, 11, 86]\n",
        "w0 = 7.17\n",
        "w = [0.01, 0.04, 0.002]"
      ],
      "metadata": {
        "id": "6BDGqle2tPZS"
      },
      "execution_count": 35,
      "outputs": []
    },
    {
      "cell_type": "code",
      "source": [
        "w0 = 7.17\n",
        "w = [0.01, 0.04, 0.002]\n",
        "w_new = [w0] + w"
      ],
      "metadata": {
        "id": "X6TRbnD9wi3Y"
      },
      "execution_count": 36,
      "outputs": []
    },
    {
      "cell_type": "code",
      "source": [
        "x1  = [1, 148, 24, 1385]\n",
        "x2  = [1, 132, 25, 2031]\n",
        "x10 = [1, 453, 11, 86]\n",
        "\n",
        "X = [x1, x2, x10]\n",
        "X = np.array(X)\n",
        "X"
      ],
      "metadata": {
        "colab": {
          "base_uri": "https://localhost:8080/"
        },
        "id": "2m6wA2NdtPcW",
        "outputId": "ed650a52-7ed2-4f54-eb67-4d95133571d5"
      },
      "execution_count": 37,
      "outputs": [
        {
          "output_type": "execute_result",
          "data": {
            "text/plain": [
              "array([[   1,  148,   24, 1385],\n",
              "       [   1,  132,   25, 2031],\n",
              "       [   1,  453,   11,   86]])"
            ]
          },
          "metadata": {},
          "execution_count": 37
        }
      ]
    },
    {
      "cell_type": "code",
      "source": [
        "X.dot(w_new)"
      ],
      "metadata": {
        "colab": {
          "base_uri": "https://localhost:8080/"
        },
        "id": "-S3lONYlwp9a",
        "outputId": "4161d982-a83b-460f-ea77-78a6cba81e2e"
      },
      "execution_count": 38,
      "outputs": [
        {
          "output_type": "execute_result",
          "data": {
            "text/plain": [
              "array([12.38 , 13.552, 12.312])"
            ]
          },
          "metadata": {},
          "execution_count": 38
        }
      ]
    },
    {
      "cell_type": "code",
      "source": [
        "def linear_regression(X):\n",
        "  return X.dot(w_new)"
      ],
      "metadata": {
        "id": "SMTEkGqSw2d-"
      },
      "execution_count": 39,
      "outputs": []
    },
    {
      "cell_type": "code",
      "source": [
        "linear_regression(X)"
      ],
      "metadata": {
        "colab": {
          "base_uri": "https://localhost:8080/"
        },
        "id": "LdupSNCCw856",
        "outputId": "fae3b8d3-fbf6-4892-ff3c-81333a04bc73"
      },
      "execution_count": 40,
      "outputs": [
        {
          "output_type": "execute_result",
          "data": {
            "text/plain": [
              "array([12.38 , 13.552, 12.312])"
            ]
          },
          "metadata": {},
          "execution_count": 40
        }
      ]
    },
    {
      "cell_type": "markdown",
      "source": [
        "# 2.7. Training linear regression: Normal equation"
      ],
      "metadata": {
        "id": "tJfqTfH_9L7X"
      }
    },
    {
      "cell_type": "markdown",
      "source": [
        "## Example Linear Regression Model for training"
      ],
      "metadata": {
        "id": "bsIU7ZEcEpB4"
      }
    },
    {
      "cell_type": "code",
      "source": [
        "def train_linear_regression(X, y):\n",
        "  pass"
      ],
      "metadata": {
        "id": "elJo5L5-zk3P"
      },
      "execution_count": 41,
      "outputs": []
    },
    {
      "cell_type": "code",
      "source": [
        "X = [\n",
        "     [148, 24, 1385],\n",
        "     [132, 25, 2031],\n",
        "     [453, 11, 86],\n",
        "     [158, 24, 185],\n",
        "     [172, 25, 201],\n",
        "     [413, 11, 86],\n",
        "     [38,  54, 185],\n",
        "     [142, 25, 431],\n",
        "     [453, 31, 86]\n",
        "]\n",
        "\n",
        "X = np.array(X)\n",
        "X"
      ],
      "metadata": {
        "colab": {
          "base_uri": "https://localhost:8080/"
        },
        "id": "sCXHqcDxzx_n",
        "outputId": "6b5cec1b-bfaa-4b0f-970b-e40fbc0e6131"
      },
      "execution_count": 42,
      "outputs": [
        {
          "output_type": "execute_result",
          "data": {
            "text/plain": [
              "array([[ 148,   24, 1385],\n",
              "       [ 132,   25, 2031],\n",
              "       [ 453,   11,   86],\n",
              "       [ 158,   24,  185],\n",
              "       [ 172,   25,  201],\n",
              "       [ 413,   11,   86],\n",
              "       [  38,   54,  185],\n",
              "       [ 142,   25,  431],\n",
              "       [ 453,   31,   86]])"
            ]
          },
          "metadata": {},
          "execution_count": 42
        }
      ]
    },
    {
      "cell_type": "code",
      "source": [
        "ones = np.ones(X.shape[0])\n",
        "ones"
      ],
      "metadata": {
        "colab": {
          "base_uri": "https://localhost:8080/"
        },
        "id": "sM_MNl5v1nrs",
        "outputId": "c8263a4d-ecdf-41e2-c3a4-868f2eca9012"
      },
      "execution_count": 43,
      "outputs": [
        {
          "output_type": "execute_result",
          "data": {
            "text/plain": [
              "array([1., 1., 1., 1., 1., 1., 1., 1., 1.])"
            ]
          },
          "metadata": {},
          "execution_count": 43
        }
      ]
    },
    {
      "cell_type": "code",
      "source": [
        "X = np.column_stack([ones, X])\n",
        "X"
      ],
      "metadata": {
        "colab": {
          "base_uri": "https://localhost:8080/"
        },
        "id": "rvr65eJB11TG",
        "outputId": "4fb9fbfe-c519-4673-b0d2-56da92fc5399"
      },
      "execution_count": 44,
      "outputs": [
        {
          "output_type": "execute_result",
          "data": {
            "text/plain": [
              "array([[1.000e+00, 1.480e+02, 2.400e+01, 1.385e+03],\n",
              "       [1.000e+00, 1.320e+02, 2.500e+01, 2.031e+03],\n",
              "       [1.000e+00, 4.530e+02, 1.100e+01, 8.600e+01],\n",
              "       [1.000e+00, 1.580e+02, 2.400e+01, 1.850e+02],\n",
              "       [1.000e+00, 1.720e+02, 2.500e+01, 2.010e+02],\n",
              "       [1.000e+00, 4.130e+02, 1.100e+01, 8.600e+01],\n",
              "       [1.000e+00, 3.800e+01, 5.400e+01, 1.850e+02],\n",
              "       [1.000e+00, 1.420e+02, 2.500e+01, 4.310e+02],\n",
              "       [1.000e+00, 4.530e+02, 3.100e+01, 8.600e+01]])"
            ]
          },
          "metadata": {},
          "execution_count": 44
        }
      ]
    },
    {
      "cell_type": "code",
      "source": [
        "XTX = X.T.dot(X)"
      ],
      "metadata": {
        "id": "bYIPdcwyzqYG"
      },
      "execution_count": 45,
      "outputs": []
    },
    {
      "cell_type": "code",
      "source": [
        "XTX_inv = np.linalg.inv(XTX)"
      ],
      "metadata": {
        "id": "WJp9tWJrzqaa"
      },
      "execution_count": 46,
      "outputs": []
    },
    {
      "cell_type": "code",
      "source": [
        "y = [10000, 20000, 15000, 20050, 10000, 20000, 15000, 25000, 12000]"
      ],
      "metadata": {
        "id": "yYt53y_-1Qho"
      },
      "execution_count": 47,
      "outputs": []
    },
    {
      "cell_type": "code",
      "source": [
        "w = XTX_inv.dot(X.T).dot(y)"
      ],
      "metadata": {
        "id": "JYU9meWwzqfn"
      },
      "execution_count": 48,
      "outputs": []
    },
    {
      "cell_type": "code",
      "source": [
        "w_full = XTX_inv.dot(X.T).dot(y)"
      ],
      "metadata": {
        "id": "5oApFGLN2WxG"
      },
      "execution_count": 49,
      "outputs": []
    },
    {
      "cell_type": "code",
      "source": [
        "w_full"
      ],
      "metadata": {
        "colab": {
          "base_uri": "https://localhost:8080/"
        },
        "id": "9-Q25jqb2pOZ",
        "outputId": "434c823c-7785-4674-f0fa-3e3ad8c4c10e"
      },
      "execution_count": 50,
      "outputs": [
        {
          "output_type": "execute_result",
          "data": {
            "text/plain": [
              "array([ 2.58447541e+04, -1.60890647e+01, -1.99472549e+02, -1.22802883e+00])"
            ]
          },
          "metadata": {},
          "execution_count": 50
        }
      ]
    },
    {
      "cell_type": "code",
      "source": [
        "w0 = w_full[0]\n",
        "w = w_full[1:]"
      ],
      "metadata": {
        "id": "8qpI6pZJ2umJ"
      },
      "execution_count": 51,
      "outputs": []
    },
    {
      "cell_type": "code",
      "source": [
        "w0, w"
      ],
      "metadata": {
        "colab": {
          "base_uri": "https://localhost:8080/"
        },
        "id": "jj3GyLuC2y4x",
        "outputId": "50c2343e-401a-4582-f2d3-80165690638b"
      },
      "execution_count": 52,
      "outputs": [
        {
          "output_type": "execute_result",
          "data": {
            "text/plain": [
              "(25844.754055766833, array([ -16.08906468, -199.47254894,   -1.22802883]))"
            ]
          },
          "metadata": {},
          "execution_count": 52
        }
      ]
    },
    {
      "cell_type": "markdown",
      "source": [
        "## Define Linear Regression Model"
      ],
      "metadata": {
        "id": "iA9tGgk_49Av"
      }
    },
    {
      "cell_type": "code",
      "source": [
        "X = [\n",
        "     [148, 24, 1385],\n",
        "     [132, 25, 2031],\n",
        "     [453, 11, 86],\n",
        "     [158, 24, 185],\n",
        "     [172, 25, 201],\n",
        "     [413, 11, 86],\n",
        "     [38,  54, 185],\n",
        "     [142, 25, 431],\n",
        "     [453, 31, 86]\n",
        "]\n",
        "\n",
        "X = np.array(X)\n",
        "X\n",
        "\n",
        "y = [10000, 20000, 15000, 20050, 10000, 20000, 15000, 25000, 12000]\n",
        "y"
      ],
      "metadata": {
        "colab": {
          "base_uri": "https://localhost:8080/"
        },
        "id": "awRQfrJb40iJ",
        "outputId": "f8288018-092e-4b1b-9a9b-8def7ed0d91c"
      },
      "execution_count": 53,
      "outputs": [
        {
          "output_type": "execute_result",
          "data": {
            "text/plain": [
              "[10000, 20000, 15000, 20050, 10000, 20000, 15000, 25000, 12000]"
            ]
          },
          "metadata": {},
          "execution_count": 53
        }
      ]
    },
    {
      "cell_type": "code",
      "source": [
        " def train_linear_regression(X, y):\n",
        "    ones = np.ones(X.shape[0])\n",
        "    X = np.column_stack([ones, X])\n",
        "\n",
        "    XTX = X.T.dot(X)\n",
        "    XTX_inv = np.linalg.inv(XTX)\n",
        "    w_full = XTX_inv.dot(X.T).dot(y)\n",
        "    \n",
        "    return w_full[0], w_full[1:]"
      ],
      "metadata": {
        "id": "hAGDKxpob1oR"
      },
      "execution_count": 54,
      "outputs": []
    },
    {
      "cell_type": "code",
      "source": [
        "train_linear_regression(X, y)"
      ],
      "metadata": {
        "colab": {
          "base_uri": "https://localhost:8080/"
        },
        "id": "cLMTDIeY3hn2",
        "outputId": "f3d48df0-9c96-47de-da2b-645cea50fd3e"
      },
      "execution_count": 55,
      "outputs": [
        {
          "output_type": "execute_result",
          "data": {
            "text/plain": [
              "(25844.754055766833, array([ -16.08906468, -199.47254894,   -1.22802883]))"
            ]
          },
          "metadata": {},
          "execution_count": 55
        }
      ]
    },
    {
      "cell_type": "markdown",
      "source": [
        "# 2.8. Baseline model for car price prediction project"
      ],
      "metadata": {
        "id": "RQVCRMjPccM1"
      }
    },
    {
      "cell_type": "code",
      "source": [
        "# see the numerical column\n",
        "df_train.dtypes"
      ],
      "metadata": {
        "colab": {
          "base_uri": "https://localhost:8080/"
        },
        "id": "GncbIfF155Kj",
        "outputId": "2d77e01b-78a3-45ee-fdf6-899078ed97e9"
      },
      "execution_count": 56,
      "outputs": [
        {
          "output_type": "execute_result",
          "data": {
            "text/plain": [
              "make                  object\n",
              "model                 object\n",
              "year                   int64\n",
              "engine_fuel_type      object\n",
              "engine_hp            float64\n",
              "engine_cylinders     float64\n",
              "transmission_type     object\n",
              "driven_wheels         object\n",
              "number_of_doors      float64\n",
              "market_category       object\n",
              "vehicle_size          object\n",
              "vehicle_style         object\n",
              "highway_mpg            int64\n",
              "city_mpg               int64\n",
              "popularity             int64\n",
              "dtype: object"
            ]
          },
          "metadata": {},
          "execution_count": 56
        }
      ]
    },
    {
      "cell_type": "code",
      "source": [
        "df_train.columns"
      ],
      "metadata": {
        "colab": {
          "base_uri": "https://localhost:8080/"
        },
        "id": "VF_DbaJP6GlR",
        "outputId": "f8b2ad97-369b-49ec-ff76-7855aede24b5"
      },
      "execution_count": 57,
      "outputs": [
        {
          "output_type": "execute_result",
          "data": {
            "text/plain": [
              "Index(['make', 'model', 'year', 'engine_fuel_type', 'engine_hp',\n",
              "       'engine_cylinders', 'transmission_type', 'driven_wheels',\n",
              "       'number_of_doors', 'market_category', 'vehicle_size', 'vehicle_style',\n",
              "       'highway_mpg', 'city_mpg', 'popularity'],\n",
              "      dtype='object')"
            ]
          },
          "metadata": {},
          "execution_count": 57
        }
      ]
    },
    {
      "cell_type": "code",
      "source": [
        "base = ['engine_hp',\n",
        "        'engine_cylinders',\n",
        "        'highway_mpg',\n",
        "        'city_mpg',\n",
        "        'popularity'\n",
        "        ]\n",
        "df_train[base]"
      ],
      "metadata": {
        "colab": {
          "base_uri": "https://localhost:8080/",
          "height": 0
        },
        "id": "rqwDHId755Mv",
        "outputId": "3b37a9bd-7afd-40d5-e83b-a478fdfb8a8d"
      },
      "execution_count": 58,
      "outputs": [
        {
          "output_type": "execute_result",
          "data": {
            "text/plain": [
              "       engine_hp  engine_cylinders  highway_mpg  city_mpg  popularity\n",
              "2735       148.0               4.0           33        24        1385\n",
              "6720       132.0               4.0           32        25        2031\n",
              "5878       148.0               4.0           37        28         640\n",
              "11190       90.0               4.0           18        16         873\n",
              "4554       385.0               8.0           21        15        5657\n",
              "...          ...               ...          ...       ...         ...\n",
              "434        300.0               6.0           31        20        3916\n",
              "1902       210.0               4.0           30        24         873\n",
              "9334       285.0               6.0           22        17         549\n",
              "5284       563.0              12.0           21        13          86\n",
              "2420       200.0               4.0           31        22         873\n",
              "\n",
              "[7150 rows x 5 columns]"
            ],
            "text/html": [
              "\n",
              "  <div id=\"df-539230f2-e788-48c8-8e6e-42be383e7433\">\n",
              "    <div class=\"colab-df-container\">\n",
              "      <div>\n",
              "<style scoped>\n",
              "    .dataframe tbody tr th:only-of-type {\n",
              "        vertical-align: middle;\n",
              "    }\n",
              "\n",
              "    .dataframe tbody tr th {\n",
              "        vertical-align: top;\n",
              "    }\n",
              "\n",
              "    .dataframe thead th {\n",
              "        text-align: right;\n",
              "    }\n",
              "</style>\n",
              "<table border=\"1\" class=\"dataframe\">\n",
              "  <thead>\n",
              "    <tr style=\"text-align: right;\">\n",
              "      <th></th>\n",
              "      <th>engine_hp</th>\n",
              "      <th>engine_cylinders</th>\n",
              "      <th>highway_mpg</th>\n",
              "      <th>city_mpg</th>\n",
              "      <th>popularity</th>\n",
              "    </tr>\n",
              "  </thead>\n",
              "  <tbody>\n",
              "    <tr>\n",
              "      <th>2735</th>\n",
              "      <td>148.0</td>\n",
              "      <td>4.0</td>\n",
              "      <td>33</td>\n",
              "      <td>24</td>\n",
              "      <td>1385</td>\n",
              "    </tr>\n",
              "    <tr>\n",
              "      <th>6720</th>\n",
              "      <td>132.0</td>\n",
              "      <td>4.0</td>\n",
              "      <td>32</td>\n",
              "      <td>25</td>\n",
              "      <td>2031</td>\n",
              "    </tr>\n",
              "    <tr>\n",
              "      <th>5878</th>\n",
              "      <td>148.0</td>\n",
              "      <td>4.0</td>\n",
              "      <td>37</td>\n",
              "      <td>28</td>\n",
              "      <td>640</td>\n",
              "    </tr>\n",
              "    <tr>\n",
              "      <th>11190</th>\n",
              "      <td>90.0</td>\n",
              "      <td>4.0</td>\n",
              "      <td>18</td>\n",
              "      <td>16</td>\n",
              "      <td>873</td>\n",
              "    </tr>\n",
              "    <tr>\n",
              "      <th>4554</th>\n",
              "      <td>385.0</td>\n",
              "      <td>8.0</td>\n",
              "      <td>21</td>\n",
              "      <td>15</td>\n",
              "      <td>5657</td>\n",
              "    </tr>\n",
              "    <tr>\n",
              "      <th>...</th>\n",
              "      <td>...</td>\n",
              "      <td>...</td>\n",
              "      <td>...</td>\n",
              "      <td>...</td>\n",
              "      <td>...</td>\n",
              "    </tr>\n",
              "    <tr>\n",
              "      <th>434</th>\n",
              "      <td>300.0</td>\n",
              "      <td>6.0</td>\n",
              "      <td>31</td>\n",
              "      <td>20</td>\n",
              "      <td>3916</td>\n",
              "    </tr>\n",
              "    <tr>\n",
              "      <th>1902</th>\n",
              "      <td>210.0</td>\n",
              "      <td>4.0</td>\n",
              "      <td>30</td>\n",
              "      <td>24</td>\n",
              "      <td>873</td>\n",
              "    </tr>\n",
              "    <tr>\n",
              "      <th>9334</th>\n",
              "      <td>285.0</td>\n",
              "      <td>6.0</td>\n",
              "      <td>22</td>\n",
              "      <td>17</td>\n",
              "      <td>549</td>\n",
              "    </tr>\n",
              "    <tr>\n",
              "      <th>5284</th>\n",
              "      <td>563.0</td>\n",
              "      <td>12.0</td>\n",
              "      <td>21</td>\n",
              "      <td>13</td>\n",
              "      <td>86</td>\n",
              "    </tr>\n",
              "    <tr>\n",
              "      <th>2420</th>\n",
              "      <td>200.0</td>\n",
              "      <td>4.0</td>\n",
              "      <td>31</td>\n",
              "      <td>22</td>\n",
              "      <td>873</td>\n",
              "    </tr>\n",
              "  </tbody>\n",
              "</table>\n",
              "<p>7150 rows × 5 columns</p>\n",
              "</div>\n",
              "      <button class=\"colab-df-convert\" onclick=\"convertToInteractive('df-539230f2-e788-48c8-8e6e-42be383e7433')\"\n",
              "              title=\"Convert this dataframe to an interactive table.\"\n",
              "              style=\"display:none;\">\n",
              "        \n",
              "  <svg xmlns=\"http://www.w3.org/2000/svg\" height=\"24px\"viewBox=\"0 0 24 24\"\n",
              "       width=\"24px\">\n",
              "    <path d=\"M0 0h24v24H0V0z\" fill=\"none\"/>\n",
              "    <path d=\"M18.56 5.44l.94 2.06.94-2.06 2.06-.94-2.06-.94-.94-2.06-.94 2.06-2.06.94zm-11 1L8.5 8.5l.94-2.06 2.06-.94-2.06-.94L8.5 2.5l-.94 2.06-2.06.94zm10 10l.94 2.06.94-2.06 2.06-.94-2.06-.94-.94-2.06-.94 2.06-2.06.94z\"/><path d=\"M17.41 7.96l-1.37-1.37c-.4-.4-.92-.59-1.43-.59-.52 0-1.04.2-1.43.59L10.3 9.45l-7.72 7.72c-.78.78-.78 2.05 0 2.83L4 21.41c.39.39.9.59 1.41.59.51 0 1.02-.2 1.41-.59l7.78-7.78 2.81-2.81c.8-.78.8-2.07 0-2.86zM5.41 20L4 18.59l7.72-7.72 1.47 1.35L5.41 20z\"/>\n",
              "  </svg>\n",
              "      </button>\n",
              "      \n",
              "  <style>\n",
              "    .colab-df-container {\n",
              "      display:flex;\n",
              "      flex-wrap:wrap;\n",
              "      gap: 12px;\n",
              "    }\n",
              "\n",
              "    .colab-df-convert {\n",
              "      background-color: #E8F0FE;\n",
              "      border: none;\n",
              "      border-radius: 50%;\n",
              "      cursor: pointer;\n",
              "      display: none;\n",
              "      fill: #1967D2;\n",
              "      height: 32px;\n",
              "      padding: 0 0 0 0;\n",
              "      width: 32px;\n",
              "    }\n",
              "\n",
              "    .colab-df-convert:hover {\n",
              "      background-color: #E2EBFA;\n",
              "      box-shadow: 0px 1px 2px rgba(60, 64, 67, 0.3), 0px 1px 3px 1px rgba(60, 64, 67, 0.15);\n",
              "      fill: #174EA6;\n",
              "    }\n",
              "\n",
              "    [theme=dark] .colab-df-convert {\n",
              "      background-color: #3B4455;\n",
              "      fill: #D2E3FC;\n",
              "    }\n",
              "\n",
              "    [theme=dark] .colab-df-convert:hover {\n",
              "      background-color: #434B5C;\n",
              "      box-shadow: 0px 1px 3px 1px rgba(0, 0, 0, 0.15);\n",
              "      filter: drop-shadow(0px 1px 2px rgba(0, 0, 0, 0.3));\n",
              "      fill: #FFFFFF;\n",
              "    }\n",
              "  </style>\n",
              "\n",
              "      <script>\n",
              "        const buttonEl =\n",
              "          document.querySelector('#df-539230f2-e788-48c8-8e6e-42be383e7433 button.colab-df-convert');\n",
              "        buttonEl.style.display =\n",
              "          google.colab.kernel.accessAllowed ? 'block' : 'none';\n",
              "\n",
              "        async function convertToInteractive(key) {\n",
              "          const element = document.querySelector('#df-539230f2-e788-48c8-8e6e-42be383e7433');\n",
              "          const dataTable =\n",
              "            await google.colab.kernel.invokeFunction('convertToInteractive',\n",
              "                                                     [key], {});\n",
              "          if (!dataTable) return;\n",
              "\n",
              "          const docLinkHtml = 'Like what you see? Visit the ' +\n",
              "            '<a target=\"_blank\" href=https://colab.research.google.com/notebooks/data_table.ipynb>data table notebook</a>'\n",
              "            + ' to learn more about interactive tables.';\n",
              "          element.innerHTML = '';\n",
              "          dataTable['output_type'] = 'display_data';\n",
              "          await google.colab.output.renderOutput(dataTable, element);\n",
              "          const docLink = document.createElement('div');\n",
              "          docLink.innerHTML = docLinkHtml;\n",
              "          element.appendChild(docLink);\n",
              "        }\n",
              "      </script>\n",
              "    </div>\n",
              "  </div>\n",
              "  "
            ]
          },
          "metadata": {},
          "execution_count": 58
        }
      ]
    },
    {
      "cell_type": "code",
      "source": [
        "# define features\n",
        "X_train = df_train[base].values\n",
        "X_train"
      ],
      "metadata": {
        "colab": {
          "base_uri": "https://localhost:8080/"
        },
        "id": "xexHsRWf55PR",
        "outputId": "64731370-459e-4550-d16b-0c54632feb84"
      },
      "execution_count": 59,
      "outputs": [
        {
          "output_type": "execute_result",
          "data": {
            "text/plain": [
              "array([[ 148.,    4.,   33.,   24., 1385.],\n",
              "       [ 132.,    4.,   32.,   25., 2031.],\n",
              "       [ 148.,    4.,   37.,   28.,  640.],\n",
              "       ...,\n",
              "       [ 285.,    6.,   22.,   17.,  549.],\n",
              "       [ 563.,   12.,   21.,   13.,   86.],\n",
              "       [ 200.,    4.,   31.,   22.,  873.]])"
            ]
          },
          "metadata": {},
          "execution_count": 59
        }
      ]
    },
    {
      "cell_type": "code",
      "source": [
        "y_train"
      ],
      "metadata": {
        "colab": {
          "base_uri": "https://localhost:8080/"
        },
        "id": "drvGPMZi55RQ",
        "outputId": "7910a293-5dbd-4577-fd5f-6fde67e48c56"
      },
      "execution_count": 60,
      "outputs": [
        {
          "output_type": "execute_result",
          "data": {
            "text/plain": [
              "array([ 9.57574708,  9.887663  ,  9.89323518, ..., 10.45380308,\n",
              "       12.62248099, 10.54061978])"
            ]
          },
          "metadata": {},
          "execution_count": 60
        }
      ]
    },
    {
      "cell_type": "code",
      "source": [
        "train_linear_regression(X_train, y_train)"
      ],
      "metadata": {
        "colab": {
          "base_uri": "https://localhost:8080/"
        },
        "id": "X6fBOw2k55T6",
        "outputId": "b30ea23a-fa7d-409d-e5e7-e1041ea3e885"
      },
      "execution_count": 61,
      "outputs": [
        {
          "output_type": "execute_result",
          "data": {
            "text/plain": [
              "(nan, array([nan, nan, nan, nan, nan]))"
            ]
          },
          "metadata": {},
          "execution_count": 61
        }
      ]
    },
    {
      "cell_type": "code",
      "source": [
        "df_train[base].isnull().sum()"
      ],
      "metadata": {
        "colab": {
          "base_uri": "https://localhost:8080/"
        },
        "id": "MY5AyGCG68Zx",
        "outputId": "7f0a01cf-75f3-4adf-83a1-8e148e1a2621"
      },
      "execution_count": 62,
      "outputs": [
        {
          "output_type": "execute_result",
          "data": {
            "text/plain": [
              "engine_hp           40\n",
              "engine_cylinders    14\n",
              "highway_mpg          0\n",
              "city_mpg             0\n",
              "popularity           0\n",
              "dtype: int64"
            ]
          },
          "metadata": {},
          "execution_count": 62
        }
      ]
    },
    {
      "cell_type": "code",
      "source": [
        "# Handling the missing value by filling them with '0'\n",
        "\n",
        "df_train[base] = df_train[base].fillna(0)"
      ],
      "metadata": {
        "id": "7-Qx8uyZ6zQB"
      },
      "execution_count": 63,
      "outputs": []
    },
    {
      "cell_type": "code",
      "source": [
        "df_train[base].isnull().sum()"
      ],
      "metadata": {
        "colab": {
          "base_uri": "https://localhost:8080/"
        },
        "id": "5ctqt-xO6zSl",
        "outputId": "0d427c38-2e1a-4a04-9819-b88563b8a66a"
      },
      "execution_count": 64,
      "outputs": [
        {
          "output_type": "execute_result",
          "data": {
            "text/plain": [
              "engine_hp           0\n",
              "engine_cylinders    0\n",
              "highway_mpg         0\n",
              "city_mpg            0\n",
              "popularity          0\n",
              "dtype: int64"
            ]
          },
          "metadata": {},
          "execution_count": 64
        }
      ]
    },
    {
      "cell_type": "code",
      "source": [
        "X_train = df_train[base].values\n",
        "X_train"
      ],
      "metadata": {
        "colab": {
          "base_uri": "https://localhost:8080/"
        },
        "id": "EDhwpI6c55Wb",
        "outputId": "8f20a82c-bee2-4fed-e056-ca10067f506e"
      },
      "execution_count": 65,
      "outputs": [
        {
          "output_type": "execute_result",
          "data": {
            "text/plain": [
              "array([[ 148.,    4.,   33.,   24., 1385.],\n",
              "       [ 132.,    4.,   32.,   25., 2031.],\n",
              "       [ 148.,    4.,   37.,   28.,  640.],\n",
              "       ...,\n",
              "       [ 285.,    6.,   22.,   17.,  549.],\n",
              "       [ 563.,   12.,   21.,   13.,   86.],\n",
              "       [ 200.,    4.,   31.,   22.,  873.]])"
            ]
          },
          "metadata": {},
          "execution_count": 65
        }
      ]
    },
    {
      "cell_type": "code",
      "source": [
        "w0, w = train_linear_regression(X_train, y_train)"
      ],
      "metadata": {
        "id": "ho6qNmQz7ZFR"
      },
      "execution_count": 66,
      "outputs": []
    },
    {
      "cell_type": "code",
      "source": [
        "y_pred = w0 + X_train.dot(w)\n",
        "y_pred"
      ],
      "metadata": {
        "colab": {
          "base_uri": "https://localhost:8080/"
        },
        "id": "OAXH_H2d7ZIW",
        "outputId": "eeea989b-d24a-402c-e115-f1fb562089d6"
      },
      "execution_count": 67,
      "outputs": [
        {
          "output_type": "execute_result",
          "data": {
            "text/plain": [
              "array([ 9.54792783,  9.38733977,  9.67197758, ..., 10.30423015,\n",
              "       11.9778914 ,  9.99863111])"
            ]
          },
          "metadata": {},
          "execution_count": 67
        }
      ]
    },
    {
      "cell_type": "code",
      "source": [
        "# Plot the prediction\n",
        "\n",
        "sns.histplot(y_pred, color = 'red', bins=50, alpha=0.5)\n",
        "sns.histplot(y_train, color = 'blue', bins=50, alpha=0.5)"
      ],
      "metadata": {
        "colab": {
          "base_uri": "https://localhost:8080/",
          "height": 0
        },
        "id": "KY4MYryT55Yf",
        "outputId": "37c32b0f-a5ad-4a12-bde5-4e11ddf8e8a4"
      },
      "execution_count": 68,
      "outputs": [
        {
          "output_type": "execute_result",
          "data": {
            "text/plain": [
              "<matplotlib.axes._subplots.AxesSubplot at 0x7fb902512df0>"
            ]
          },
          "metadata": {},
          "execution_count": 68
        },
        {
          "output_type": "display_data",
          "data": {
            "text/plain": [
              "<Figure size 432x288 with 1 Axes>"
            ],
            "image/png": "[encoded data removed]"
          },
          "metadata": {
            "needs_background": "light"
          }
        }
      ]
    },
    {
      "cell_type": "markdown",
      "source": [
        "# 2.9. Root mean squared error (RMSE)"
      ],
      "metadata": {
        "id": "55J8saJv8l9h"
      }
    },
    {
      "cell_type": "markdown",
      "source": [
        "![image.png](data:image/png;base64,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)"
      ],
      "metadata": {
        "id": "xmVh-cRMBpoj"
      }
    },
    {
      "cell_type": "code",
      "source": [
        "def rmse(y, y_pred):\n",
        "  se = (y - y_pred) ** 2\n",
        "  mse = se.mean()\n",
        "  return np.sqrt(mse)"
      ],
      "metadata": {
        "id": "Bo1O1om355bv"
      },
      "execution_count": 69,
      "outputs": []
    },
    {
      "cell_type": "code",
      "source": [
        "rmse(y_train, y_pred)"
      ],
      "metadata": {
        "colab": {
          "base_uri": "https://localhost:8080/"
        },
        "id": "lPdldYz-Fe1l",
        "outputId": "4e88e442-7e70-4848-acbc-f56259275cc1"
      },
      "execution_count": 70,
      "outputs": [
        {
          "output_type": "execute_result",
          "data": {
            "text/plain": [
              "0.7554192603920133"
            ]
          },
          "metadata": {},
          "execution_count": 70
        }
      ]
    },
    {
      "cell_type": "markdown",
      "source": [
        "#2.10. Using RMSE on validation data"
      ],
      "metadata": {
        "id": "N1PdbRjB9btr"
      }
    },
    {
      "cell_type": "code",
      "source": [
        "def prepare_X(df):\n",
        "  df_num = df[base]\n",
        "  df_num = df_num.fillna(0)\n",
        "  X = df_num.values\n",
        "  return X"
      ],
      "metadata": {
        "id": "c98Nrcmx9dmr"
      },
      "execution_count": 71,
      "outputs": []
    },
    {
      "cell_type": "code",
      "source": [
        "# Train Part\n",
        "X_train = prepare_X(df_train)\n",
        "w0, w = train_linear_regression(X_train, y_train)\n",
        "\n",
        "# Validation Part\n",
        "X_val = prepare_X(df_val)\n",
        "y_pred = w0 + X_val.dot(w)\n",
        "\n",
        "rmse(y_val, y_pred)"
      ],
      "metadata": {
        "colab": {
          "base_uri": "https://localhost:8080/"
        },
        "id": "bdOaC4-JGrCX",
        "outputId": "15cb5ab0-806d-49d3-ec98-46f38ce0aeff"
      },
      "execution_count": 72,
      "outputs": [
        {
          "output_type": "execute_result",
          "data": {
            "text/plain": [
              "0.7616530991301603"
            ]
          },
          "metadata": {},
          "execution_count": 72
        }
      ]
    },
    {
      "cell_type": "markdown",
      "source": [
        "# 2.11 Feature Engineering"
      ],
      "metadata": {
        "id": "-FfdYq3Herr7"
      }
    },
    {
      "cell_type": "markdown",
      "source": [
        "we will use the feature of age of the car"
      ],
      "metadata": {
        "id": "3Sh60_9SZOC_"
      }
    },
    {
      "cell_type": "code",
      "source": [
        "df_train"
      ],
      "metadata": {
        "colab": {
          "base_uri": "https://localhost:8080/",
          "height": 0
        },
        "id": "_Ql5n1WaZCX1",
        "outputId": "fdce4b3f-6b51-4378-8594-9de7b1448e17"
      },
      "execution_count": 73,
      "outputs": [
        {
          "output_type": "execute_result",
          "data": {
            "text/plain": [
              "              make        model  year                engine_fuel_type  \\\n",
              "2735     chevrolet       cobalt  2008                regular_unleaded   \n",
              "6720        toyota       matrix  2012                regular_unleaded   \n",
              "5878        subaru      impreza  2016                regular_unleaded   \n",
              "11190   volkswagen      vanagon  1991                regular_unleaded   \n",
              "4554          ford        f-150  2017        flex-fuel_(unleaded/e85)   \n",
              "...            ...          ...   ...                             ...   \n",
              "434            bmw     4_series  2015     premium_unleaded_(required)   \n",
              "1902    volkswagen       beetle  2015  premium_unleaded_(recommended)   \n",
              "9334           gmc  sierra_1500  2015        flex-fuel_(unleaded/e85)   \n",
              "5284   rolls-royce        ghost  2014     premium_unleaded_(required)   \n",
              "2420    volkswagen           cc  2017  premium_unleaded_(recommended)   \n",
              "\n",
              "       engine_hp  engine_cylinders transmission_type      driven_wheels  \\\n",
              "2735       148.0               4.0            manual  front_wheel_drive   \n",
              "6720       132.0               4.0         automatic  front_wheel_drive   \n",
              "5878       148.0               4.0         automatic    all_wheel_drive   \n",
              "11190       90.0               4.0            manual   rear_wheel_drive   \n",
              "4554       385.0               8.0         automatic   four_wheel_drive   \n",
              "...          ...               ...               ...                ...   \n",
              "434        300.0               6.0         automatic   rear_wheel_drive   \n",
              "1902       210.0               4.0  automated_manual  front_wheel_drive   \n",
              "9334       285.0               6.0         automatic   four_wheel_drive   \n",
              "5284       563.0              12.0         automatic   rear_wheel_drive   \n",
              "2420       200.0               4.0  automated_manual  front_wheel_drive   \n",
              "\n",
              "       number_of_doors            market_category vehicle_size  \\\n",
              "2735               2.0                        NaN      compact   \n",
              "6720               4.0                  hatchback      compact   \n",
              "5878               4.0                  hatchback      compact   \n",
              "11190              3.0                        NaN        large   \n",
              "4554               4.0                  flex_fuel        large   \n",
              "...                ...                        ...          ...   \n",
              "434                2.0         luxury,performance      midsize   \n",
              "1902               2.0      hatchback,performance      compact   \n",
              "9334               4.0                  flex_fuel        large   \n",
              "5284               4.0  exotic,luxury,performance        large   \n",
              "2420               4.0                performance      midsize   \n",
              "\n",
              "             vehicle_style  highway_mpg  city_mpg  popularity  \n",
              "2735                 coupe           33        24        1385  \n",
              "6720         4dr_hatchback           32        25        2031  \n",
              "5878         4dr_hatchback           37        28         640  \n",
              "11190    passenger_minivan           18        16         873  \n",
              "4554       crew_cab_pickup           21        15        5657  \n",
              "...                    ...          ...       ...         ...  \n",
              "434            convertible           31        20        3916  \n",
              "1902         2dr_hatchback           30        24         873  \n",
              "9334   extended_cab_pickup           22        17         549  \n",
              "5284                 sedan           21        13          86  \n",
              "2420                 sedan           31        22         873  \n",
              "\n",
              "[7150 rows x 15 columns]"
            ],
            "text/html": [
              "\n",
              "  <div id=\"df-18d88a7d-b5e7-4f72-b330-9de4a91544ce\">\n",
              "    <div class=\"colab-df-container\">\n",
              "      <div>\n",
              "<style scoped>\n",
              "    .dataframe tbody tr th:only-of-type {\n",
              "        vertical-align: middle;\n",
              "    }\n",
              "\n",
              "    .dataframe tbody tr th {\n",
              "        vertical-align: top;\n",
              "    }\n",
              "\n",
              "    .dataframe thead th {\n",
              "        text-align: right;\n",
              "    }\n",
              "</style>\n",
              "<table border=\"1\" class=\"dataframe\">\n",
              "  <thead>\n",
              "    <tr style=\"text-align: right;\">\n",
              "      <th></th>\n",
              "      <th>make</th>\n",
              "      <th>model</th>\n",
              "      <th>year</th>\n",
              "      <th>engine_fuel_type</th>\n",
              "      <th>engine_hp</th>\n",
              "      <th>engine_cylinders</th>\n",
              "      <th>transmission_type</th>\n",
              "      <th>driven_wheels</th>\n",
              "      <th>number_of_doors</th>\n",
              "      <th>market_category</th>\n",
              "      <th>vehicle_size</th>\n",
              "      <th>vehicle_style</th>\n",
              "      <th>highway_mpg</th>\n",
              "      <th>city_mpg</th>\n",
              "      <th>popularity</th>\n",
              "    </tr>\n",
              "  </thead>\n",
              "  <tbody>\n",
              "    <tr>\n",
              "      <th>2735</th>\n",
              "      <td>chevrolet</td>\n",
              "      <td>cobalt</td>\n",
              "      <td>2008</td>\n",
              "      <td>regular_unleaded</td>\n",
              "      <td>148.0</td>\n",
              "      <td>4.0</td>\n",
              "      <td>manual</td>\n",
              "      <td>front_wheel_drive</td>\n",
              "      <td>2.0</td>\n",
              "      <td>NaN</td>\n",
              "      <td>compact</td>\n",
              "      <td>coupe</td>\n",
              "      <td>33</td>\n",
              "      <td>24</td>\n",
              "      <td>1385</td>\n",
              "    </tr>\n",
              "    <tr>\n",
              "      <th>6720</th>\n",
              "      <td>toyota</td>\n",
              "      <td>matrix</td>\n",
              "      <td>2012</td>\n",
              "      <td>regular_unleaded</td>\n",
              "      <td>132.0</td>\n",
              "      <td>4.0</td>\n",
              "      <td>automatic</td>\n",
              "      <td>front_wheel_drive</td>\n",
              "      <td>4.0</td>\n",
              "      <td>hatchback</td>\n",
              "      <td>compact</td>\n",
              "      <td>4dr_hatchback</td>\n",
              "      <td>32</td>\n",
              "      <td>25</td>\n",
              "      <td>2031</td>\n",
              "    </tr>\n",
              "    <tr>\n",
              "      <th>5878</th>\n",
              "      <td>subaru</td>\n",
              "      <td>impreza</td>\n",
              "      <td>2016</td>\n",
              "      <td>regular_unleaded</td>\n",
              "      <td>148.0</td>\n",
              "      <td>4.0</td>\n",
              "      <td>automatic</td>\n",
              "      <td>all_wheel_drive</td>\n",
              "      <td>4.0</td>\n",
              "      <td>hatchback</td>\n",
              "      <td>compact</td>\n",
              "      <td>4dr_hatchback</td>\n",
              "      <td>37</td>\n",
              "      <td>28</td>\n",
              "      <td>640</td>\n",
              "    </tr>\n",
              "    <tr>\n",
              "      <th>11190</th>\n",
              "      <td>volkswagen</td>\n",
              "      <td>vanagon</td>\n",
              "      <td>1991</td>\n",
              "      <td>regular_unleaded</td>\n",
              "      <td>90.0</td>\n",
              "      <td>4.0</td>\n",
              "      <td>manual</td>\n",
              "      <td>rear_wheel_drive</td>\n",
              "      <td>3.0</td>\n",
              "      <td>NaN</td>\n",
              "      <td>large</td>\n",
              "      <td>passenger_minivan</td>\n",
              "      <td>18</td>\n",
              "      <td>16</td>\n",
              "      <td>873</td>\n",
              "    </tr>\n",
              "    <tr>\n",
              "      <th>4554</th>\n",
              "      <td>ford</td>\n",
              "      <td>f-150</td>\n",
              "      <td>2017</td>\n",
              "      <td>flex-fuel_(unleaded/e85)</td>\n",
              "      <td>385.0</td>\n",
              "      <td>8.0</td>\n",
              "      <td>automatic</td>\n",
              "      <td>four_wheel_drive</td>\n",
              "      <td>4.0</td>\n",
              "      <td>flex_fuel</td>\n",
              "      <td>large</td>\n",
              "      <td>crew_cab_pickup</td>\n",
              "      <td>21</td>\n",
              "      <td>15</td>\n",
              "      <td>5657</td>\n",
              "    </tr>\n",
              "    <tr>\n",
              "      <th>...</th>\n",
              "      <td>...</td>\n",
              "      <td>...</td>\n",
              "      <td>...</td>\n",
              "      <td>...</td>\n",
              "      <td>...</td>\n",
              "      <td>...</td>\n",
              "      <td>...</td>\n",
              "      <td>...</td>\n",
              "      <td>...</td>\n",
              "      <td>...</td>\n",
              "      <td>...</td>\n",
              "      <td>...</td>\n",
              "      <td>...</td>\n",
              "      <td>...</td>\n",
              "      <td>...</td>\n",
              "    </tr>\n",
              "    <tr>\n",
              "      <th>434</th>\n",
              "      <td>bmw</td>\n",
              "      <td>4_series</td>\n",
              "      <td>2015</td>\n",
              "      <td>premium_unleaded_(required)</td>\n",
              "      <td>300.0</td>\n",
              "      <td>6.0</td>\n",
              "      <td>automatic</td>\n",
              "      <td>rear_wheel_drive</td>\n",
              "      <td>2.0</td>\n",
              "      <td>luxury,performance</td>\n",
              "      <td>midsize</td>\n",
              "      <td>convertible</td>\n",
              "      <td>31</td>\n",
              "      <td>20</td>\n",
              "      <td>3916</td>\n",
              "    </tr>\n",
              "    <tr>\n",
              "      <th>1902</th>\n",
              "      <td>volkswagen</td>\n",
              "      <td>beetle</td>\n",
              "      <td>2015</td>\n",
              "      <td>premium_unleaded_(recommended)</td>\n",
              "      <td>210.0</td>\n",
              "      <td>4.0</td>\n",
              "      <td>automated_manual</td>\n",
              "      <td>front_wheel_drive</td>\n",
              "      <td>2.0</td>\n",
              "      <td>hatchback,performance</td>\n",
              "      <td>compact</td>\n",
              "      <td>2dr_hatchback</td>\n",
              "      <td>30</td>\n",
              "      <td>24</td>\n",
              "      <td>873</td>\n",
              "    </tr>\n",
              "    <tr>\n",
              "      <th>9334</th>\n",
              "      <td>gmc</td>\n",
              "      <td>sierra_1500</td>\n",
              "      <td>2015</td>\n",
              "      <td>flex-fuel_(unleaded/e85)</td>\n",
              "      <td>285.0</td>\n",
              "      <td>6.0</td>\n",
              "      <td>automatic</td>\n",
              "      <td>four_wheel_drive</td>\n",
              "      <td>4.0</td>\n",
              "      <td>flex_fuel</td>\n",
              "      <td>large</td>\n",
              "      <td>extended_cab_pickup</td>\n",
              "      <td>22</td>\n",
              "      <td>17</td>\n",
              "      <td>549</td>\n",
              "    </tr>\n",
              "    <tr>\n",
              "      <th>5284</th>\n",
              "      <td>rolls-royce</td>\n",
              "      <td>ghost</td>\n",
              "      <td>2014</td>\n",
              "      <td>premium_unleaded_(required)</td>\n",
              "      <td>563.0</td>\n",
              "      <td>12.0</td>\n",
              "      <td>automatic</td>\n",
              "      <td>rear_wheel_drive</td>\n",
              "      <td>4.0</td>\n",
              "      <td>exotic,luxury,performance</td>\n",
              "      <td>large</td>\n",
              "      <td>sedan</td>\n",
              "      <td>21</td>\n",
              "      <td>13</td>\n",
              "      <td>86</td>\n",
              "    </tr>\n",
              "    <tr>\n",
              "      <th>2420</th>\n",
              "      <td>volkswagen</td>\n",
              "      <td>cc</td>\n",
              "      <td>2017</td>\n",
              "      <td>premium_unleaded_(recommended)</td>\n",
              "      <td>200.0</td>\n",
              "      <td>4.0</td>\n",
              "      <td>automated_manual</td>\n",
              "      <td>front_wheel_drive</td>\n",
              "      <td>4.0</td>\n",
              "      <td>performance</td>\n",
              "      <td>midsize</td>\n",
              "      <td>sedan</td>\n",
              "      <td>31</td>\n",
              "      <td>22</td>\n",
              "      <td>873</td>\n",
              "    </tr>\n",
              "  </tbody>\n",
              "</table>\n",
              "<p>7150 rows × 15 columns</p>\n",
              "</div>\n",
              "      <button class=\"colab-df-convert\" onclick=\"convertToInteractive('df-18d88a7d-b5e7-4f72-b330-9de4a91544ce')\"\n",
              "              title=\"Convert this dataframe to an interactive table.\"\n",
              "              style=\"display:none;\">\n",
              "        \n",
              "  <svg xmlns=\"http://www.w3.org/2000/svg\" height=\"24px\"viewBox=\"0 0 24 24\"\n",
              "       width=\"24px\">\n",
              "    <path d=\"M0 0h24v24H0V0z\" fill=\"none\"/>\n",
              "    <path d=\"M18.56 5.44l.94 2.06.94-2.06 2.06-.94-2.06-.94-.94-2.06-.94 2.06-2.06.94zm-11 1L8.5 8.5l.94-2.06 2.06-.94-2.06-.94L8.5 2.5l-.94 2.06-2.06.94zm10 10l.94 2.06.94-2.06 2.06-.94-2.06-.94-.94-2.06-.94 2.06-2.06.94z\"/><path d=\"M17.41 7.96l-1.37-1.37c-.4-.4-.92-.59-1.43-.59-.52 0-1.04.2-1.43.59L10.3 9.45l-7.72 7.72c-.78.78-.78 2.05 0 2.83L4 21.41c.39.39.9.59 1.41.59.51 0 1.02-.2 1.41-.59l7.78-7.78 2.81-2.81c.8-.78.8-2.07 0-2.86zM5.41 20L4 18.59l7.72-7.72 1.47 1.35L5.41 20z\"/>\n",
              "  </svg>\n",
              "      </button>\n",
              "      \n",
              "  <style>\n",
              "    .colab-df-container {\n",
              "      display:flex;\n",
              "      flex-wrap:wrap;\n",
              "      gap: 12px;\n",
              "    }\n",
              "\n",
              "    .colab-df-convert {\n",
              "      background-color: #E8F0FE;\n",
              "      border: none;\n",
              "      border-radius: 50%;\n",
              "      cursor: pointer;\n",
              "      display: none;\n",
              "      fill: #1967D2;\n",
              "      height: 32px;\n",
              "      padding: 0 0 0 0;\n",
              "      width: 32px;\n",
              "    }\n",
              "\n",
              "    .colab-df-convert:hover {\n",
              "      background-color: #E2EBFA;\n",
              "      box-shadow: 0px 1px 2px rgba(60, 64, 67, 0.3), 0px 1px 3px 1px rgba(60, 64, 67, 0.15);\n",
              "      fill: #174EA6;\n",
              "    }\n",
              "\n",
              "    [theme=dark] .colab-df-convert {\n",
              "      background-color: #3B4455;\n",
              "      fill: #D2E3FC;\n",
              "    }\n",
              "\n",
              "    [theme=dark] .colab-df-convert:hover {\n",
              "      background-color: #434B5C;\n",
              "      box-shadow: 0px 1px 3px 1px rgba(0, 0, 0, 0.15);\n",
              "      filter: drop-shadow(0px 1px 2px rgba(0, 0, 0, 0.3));\n",
              "      fill: #FFFFFF;\n",
              "    }\n",
              "  </style>\n",
              "\n",
              "      <script>\n",
              "        const buttonEl =\n",
              "          document.querySelector('#df-18d88a7d-b5e7-4f72-b330-9de4a91544ce button.colab-df-convert');\n",
              "        buttonEl.style.display =\n",
              "          google.colab.kernel.accessAllowed ? 'block' : 'none';\n",
              "\n",
              "        async function convertToInteractive(key) {\n",
              "          const element = document.querySelector('#df-18d88a7d-b5e7-4f72-b330-9de4a91544ce');\n",
              "          const dataTable =\n",
              "            await google.colab.kernel.invokeFunction('convertToInteractive',\n",
              "                                                     [key], {});\n",
              "          if (!dataTable) return;\n",
              "\n",
              "          const docLinkHtml = 'Like what you see? Visit the ' +\n",
              "            '<a target=\"_blank\" href=https://colab.research.google.com/notebooks/data_table.ipynb>data table notebook</a>'\n",
              "            + ' to learn more about interactive tables.';\n",
              "          element.innerHTML = '';\n",
              "          dataTable['output_type'] = 'display_data';\n",
              "          await google.colab.output.renderOutput(dataTable, element);\n",
              "          const docLink = document.createElement('div');\n",
              "          docLink.innerHTML = docLinkHtml;\n",
              "          element.appendChild(docLink);\n",
              "        }\n",
              "      </script>\n",
              "    </div>\n",
              "  </div>\n",
              "  "
            ]
          },
          "metadata": {},
          "execution_count": 73
        }
      ]
    },
    {
      "cell_type": "code",
      "source": [
        "2017 - df_train.year"
      ],
      "metadata": {
        "colab": {
          "base_uri": "https://localhost:8080/"
        },
        "id": "0fA8wY64ZRmg",
        "outputId": "0f459d13-a7a5-49a3-8aa7-a84f28754893"
      },
      "execution_count": 74,
      "outputs": [
        {
          "output_type": "execute_result",
          "data": {
            "text/plain": [
              "2735      9\n",
              "6720      5\n",
              "5878      1\n",
              "11190    26\n",
              "4554      0\n",
              "         ..\n",
              "434       2\n",
              "1902      2\n",
              "9334      2\n",
              "5284      3\n",
              "2420      0\n",
              "Name: year, Length: 7150, dtype: int64"
            ]
          },
          "metadata": {},
          "execution_count": 74
        }
      ]
    },
    {
      "cell_type": "code",
      "source": [
        "def prepare_X(df):\n",
        "    df = df.copy()\n",
        "\n",
        "    df['age'] = 2017 - df.year\n",
        "    features = base + ['age']\n",
        "\n",
        "    df_num = df[features]\n",
        "    df_num = df_num.fillna(0)\n",
        "    X = df_num.values\n",
        "\n",
        "    return X"
      ],
      "metadata": {
        "id": "eakgbvJrZZ6l"
      },
      "execution_count": 75,
      "outputs": []
    },
    {
      "cell_type": "code",
      "source": [
        "X_train = prepare_X(df_train)"
      ],
      "metadata": {
        "id": "QgZBobcyaKfn"
      },
      "execution_count": 76,
      "outputs": []
    },
    {
      "cell_type": "code",
      "source": [
        "X_train"
      ],
      "metadata": {
        "colab": {
          "base_uri": "https://localhost:8080/"
        },
        "id": "NtMthtX2aOqJ",
        "outputId": "24fbb19e-66e7-483b-f7f2-7e321e2aa918"
      },
      "execution_count": 77,
      "outputs": [
        {
          "output_type": "execute_result",
          "data": {
            "text/plain": [
              "array([[1.480e+02, 4.000e+00, 3.300e+01, 2.400e+01, 1.385e+03, 9.000e+00],\n",
              "       [1.320e+02, 4.000e+00, 3.200e+01, 2.500e+01, 2.031e+03, 5.000e+00],\n",
              "       [1.480e+02, 4.000e+00, 3.700e+01, 2.800e+01, 6.400e+02, 1.000e+00],\n",
              "       ...,\n",
              "       [2.850e+02, 6.000e+00, 2.200e+01, 1.700e+01, 5.490e+02, 2.000e+00],\n",
              "       [5.630e+02, 1.200e+01, 2.100e+01, 1.300e+01, 8.600e+01, 3.000e+00],\n",
              "       [2.000e+02, 4.000e+00, 3.100e+01, 2.200e+01, 8.730e+02, 0.000e+00]])"
            ]
          },
          "metadata": {},
          "execution_count": 77
        }
      ]
    },
    {
      "cell_type": "code",
      "source": [
        "# Train Part\n",
        "X_train = prepare_X(df_train)\n",
        "w0, w = train_linear_regression(X_train, y_train)\n",
        "\n",
        "# Validation Part\n",
        "X_val = prepare_X(df_val)\n",
        "y_pred = w0 + X_val.dot(w)\n",
        "\n",
        "print('validation', rmse(y_val, y_pred))"
      ],
      "metadata": {
        "colab": {
          "base_uri": "https://localhost:8080/"
        },
        "id": "P7cAE9Vkamls",
        "outputId": "814939bc-570d-4629-bbca-8e033fe8d008"
      },
      "execution_count": 78,
      "outputs": [
        {
          "output_type": "stream",
          "name": "stdout",
          "text": [
            "validation 0.5172055461058318\n"
          ]
        }
      ]
    },
    {
      "cell_type": "code",
      "source": [
        "plt.figure(figsize=(6, 4))\n",
        "\n",
        "\n",
        "sns.histplot(y_val, label='target', color='red', alpha=0.5, bins=40)\n",
        "sns.histplot(y_pred, label='prediction', color='blue', alpha=0.5, bins=40)\n",
        "\n",
        "plt.legend()\n",
        "\n",
        "plt.ylabel('Frequency')\n",
        "plt.xlabel('Log(Price + 1)')\n",
        "plt.title('Predictions vs actual distribution')\n",
        "\n",
        "plt.show()"
      ],
      "metadata": {
        "colab": {
          "base_uri": "https://localhost:8080/",
          "height": 0
        },
        "id": "iiy-PK1JexcT",
        "outputId": "cc956f25-c19b-4db8-aed0-fb08677dfc4b"
      },
      "execution_count": 79,
      "outputs": [
        {
          "output_type": "display_data",
          "data": {
            "text/plain": [
              "<Figure size 432x288 with 1 Axes>"
            ],
            "image/png": "[encoded data removed]"
          },
          "metadata": {
            "needs_background": "light"
          }
        }
      ]
    },
    {
      "cell_type": "markdown",
      "source": [
        "#2.12 Categorical Variables"
      ],
      "metadata": {
        "id": "BlsaWG4KbjmZ"
      }
    },
    {
      "cell_type": "code",
      "source": [
        "df_train.dtypes"
      ],
      "metadata": {
        "colab": {
          "base_uri": "https://localhost:8080/"
        },
        "id": "M9JRPnh2bngx",
        "outputId": "5cc91cd1-4300-4ec8-c401-6ea27236303d"
      },
      "execution_count": 80,
      "outputs": [
        {
          "output_type": "execute_result",
          "data": {
            "text/plain": [
              "make                  object\n",
              "model                 object\n",
              "year                   int64\n",
              "engine_fuel_type      object\n",
              "engine_hp            float64\n",
              "engine_cylinders     float64\n",
              "transmission_type     object\n",
              "driven_wheels         object\n",
              "number_of_doors      float64\n",
              "market_category       object\n",
              "vehicle_size          object\n",
              "vehicle_style         object\n",
              "highway_mpg            int64\n",
              "city_mpg               int64\n",
              "popularity             int64\n",
              "dtype: object"
            ]
          },
          "metadata": {},
          "execution_count": 80
        }
      ]
    },
    {
      "cell_type": "markdown",
      "source": [
        "one-hot-encode variable num_doors"
      ],
      "metadata": {
        "id": "v-8OohejeA9R"
      }
    },
    {
      "cell_type": "code",
      "source": [
        "def prepare_X(df):\n",
        "    df = df.copy()\n",
        "    features = base.copy()\n",
        "\n",
        "    df['age'] = 2017 - df.year\n",
        "    features.append('age')\n",
        "\n",
        "    for v in [2, 3, 4]:\n",
        "      df['num_doors_%s' % v] = (df.number_of_doors == v).astype('int')\n",
        "      features.append('num_doors_%s' % v)\n",
        "\n",
        "    df_num = df[features]\n",
        "    df_num = df_num.fillna(0)\n",
        "    X = df_num.values\n",
        "\n",
        "    return X"
      ],
      "metadata": {
        "id": "YaD7lVDec1_e"
      },
      "execution_count": 82,
      "outputs": []
    },
    {
      "cell_type": "code",
      "source": [
        "# Train Part\n",
        "X_train = prepare_X(df_train)\n",
        "w0, w = train_linear_regression(X_train, y_train)\n",
        "\n",
        "# Validation Part\n",
        "X_val = prepare_X(df_val)\n",
        "y_pred = w0 + X_val.dot(w)\n",
        "\n",
        "print('validation', rmse(y_val, y_pred))"
      ],
      "metadata": {
        "colab": {
          "base_uri": "https://localhost:8080/"
        },
        "id": "bwPBmTyBd3GW",
        "outputId": "f8e2f7e8-b4f2-4b84-be53-b0e0425ed35e"
      },
      "execution_count": 83,
      "outputs": [
        {
          "output_type": "stream",
          "name": "stdout",
          "text": [
            "validation 0.5157995641502839\n"
          ]
        }
      ]
    },
    {
      "cell_type": "code",
      "source": [
        "df_train.dtypes"
      ],
      "metadata": {
        "colab": {
          "base_uri": "https://localhost:8080/"
        },
        "id": "r_Ro1zzrfaJH",
        "outputId": "dc8b74a8-a26c-49aa-a7bb-e26f6c74ac71"
      },
      "execution_count": 84,
      "outputs": [
        {
          "output_type": "execute_result",
          "data": {
            "text/plain": [
              "make                  object\n",
              "model                 object\n",
              "year                   int64\n",
              "engine_fuel_type      object\n",
              "engine_hp            float64\n",
              "engine_cylinders     float64\n",
              "transmission_type     object\n",
              "driven_wheels         object\n",
              "number_of_doors      float64\n",
              "market_category       object\n",
              "vehicle_size          object\n",
              "vehicle_style         object\n",
              "highway_mpg            int64\n",
              "city_mpg               int64\n",
              "popularity             int64\n",
              "dtype: object"
            ]
          },
          "metadata": {},
          "execution_count": 84
        }
      ]
    },
    {
      "cell_type": "code",
      "source": [
        "categorical_variables = [\n",
        "    'make',\n",
        "    'engine_fuel_type',\n",
        "    'transmission_type',\n",
        "    'driven_wheels',\n",
        "    'market_category',\n",
        "    'vehicle_size',\n",
        "    'vehicle_style'\n",
        "]\n",
        "\n",
        "categories = {}\n",
        "for c in categorical_variables:\n",
        "  categories[c] = list(df[c].value_counts().head().index)"
      ],
      "metadata": {
        "id": "2und7lcpfGbn"
      },
      "execution_count": 85,
      "outputs": []
    },
    {
      "cell_type": "code",
      "source": [
        "categories"
      ],
      "metadata": {
        "colab": {
          "base_uri": "https://localhost:8080/"
        },
        "id": "k3LBM2MYfGee",
        "outputId": "b7bc595f-b0a5-440e-cc9c-ee0af73b30c7"
      },
      "execution_count": 86,
      "outputs": [
        {
          "output_type": "execute_result",
          "data": {
            "text/plain": [
              "{'make': ['chevrolet', 'ford', 'volkswagen', 'toyota', 'dodge'],\n",
              " 'engine_fuel_type': ['regular_unleaded',\n",
              "  'premium_unleaded_(required)',\n",
              "  'premium_unleaded_(recommended)',\n",
              "  'flex-fuel_(unleaded/e85)',\n",
              "  'diesel'],\n",
              " 'transmission_type': ['automatic',\n",
              "  'manual',\n",
              "  'automated_manual',\n",
              "  'direct_drive',\n",
              "  'unknown'],\n",
              " 'driven_wheels': ['front_wheel_drive',\n",
              "  'rear_wheel_drive',\n",
              "  'all_wheel_drive',\n",
              "  'four_wheel_drive'],\n",
              " 'market_category': ['crossover',\n",
              "  'flex_fuel',\n",
              "  'luxury',\n",
              "  'luxury,performance',\n",
              "  'hatchback'],\n",
              " 'vehicle_size': ['compact', 'midsize', 'large'],\n",
              " 'vehicle_style': ['sedan',\n",
              "  '4dr_suv',\n",
              "  'coupe',\n",
              "  'convertible',\n",
              "  '4dr_hatchback']}"
            ]
          },
          "metadata": {},
          "execution_count": 86
        }
      ]
    },
    {
      "cell_type": "code",
      "source": [
        "def prepare_X(df):\n",
        "    df = df.copy()\n",
        "    features = base.copy()\n",
        "\n",
        "    df['age'] = 2017 - df.year\n",
        "    features.append('age')\n",
        "\n",
        "    for v in [2, 3, 4]:\n",
        "        feature = 'num_doors_%s' % v\n",
        "        df[feature] = (df['number_of_doors'] == v).astype(int)\n",
        "        features.append(feature)\n",
        "\n",
        "    for c, values in categories.items():\n",
        "        for v in values:\n",
        "            df['%s_%s' % (c,v)] = (df[c] == v).astype('int')\n",
        "            features.append('%s_%s' % (c,v))\n",
        "\n",
        "\n",
        "    df_num = df[features]\n",
        "    df_num = df_num.fillna(0)\n",
        "    X = df_num.values\n",
        "    return X"
      ],
      "metadata": {
        "id": "5KFEBfuOfGhx"
      },
      "execution_count": 87,
      "outputs": []
    },
    {
      "cell_type": "code",
      "source": [
        "# Train Part\n",
        "X_train = prepare_X(df_train)\n",
        "w0, w = train_linear_regression(X_train, y_train)\n",
        "\n",
        "# Validation Part\n",
        "X_val = prepare_X(df_val)\n",
        "y_pred = w0 + X_val.dot(w)\n",
        "\n",
        "print('validation', rmse(y_val, y_pred))"
      ],
      "metadata": {
        "colab": {
          "base_uri": "https://localhost:8080/"
        },
        "id": "KGwh6wK-fGlC",
        "outputId": "168c8a99-c012-4491-b540-54aa15be7f70"
      },
      "execution_count": 90,
      "outputs": [
        {
          "output_type": "stream",
          "name": "stdout",
          "text": [
            "validation 33.78711080966741\n"
          ]
        }
      ]
    },
    {
      "cell_type": "code",
      "source": [
        "w0"
      ],
      "metadata": {
        "colab": {
          "base_uri": "https://localhost:8080/"
        },
        "id": "cy1nKqkYfGnm",
        "outputId": "051a9579-9e54-434a-d2cb-6de76a3acd6c"
      },
      "execution_count": 91,
      "outputs": [
        {
          "output_type": "execute_result",
          "data": {
            "text/plain": [
              "-9107092991959006.0"
            ]
          },
          "metadata": {},
          "execution_count": 91
        }
      ]
    },
    {
      "cell_type": "markdown",
      "source": [
        "# Regularization"
      ],
      "metadata": {
        "id": "7mSrZlYZf_Xb"
      }
    },
    {
      "cell_type": "markdown",
      "source": [
        "### Example Problem Description"
      ],
      "metadata": {
        "id": "y5tDMuT8kSUE"
      }
    },
    {
      "cell_type": "code",
      "source": [
        "X = [\n",
        "    [4, 4, 4],\n",
        "    [3, 5, 5],\n",
        "    [5, 1, 1],\n",
        "    [5, 4, 4],\n",
        "    [7, 5, 5],\n",
        "    [4, 5, 5.0000001],\n",
        "]\n",
        "X = np.array(X)\n",
        "X"
      ],
      "metadata": {
        "colab": {
          "base_uri": "https://localhost:8080/"
        },
        "id": "KH2CI_XHkV0k",
        "outputId": "0f1b0a30-01cf-4bad-f388-84f7354d5180"
      },
      "execution_count": 99,
      "outputs": [
        {
          "output_type": "execute_result",
          "data": {
            "text/plain": [
              "array([[4.       , 4.       , 4.       ],\n",
              "       [3.       , 5.       , 5.       ],\n",
              "       [5.       , 1.       , 1.       ],\n",
              "       [5.       , 4.       , 4.       ],\n",
              "       [7.       , 5.       , 5.       ],\n",
              "       [4.       , 5.       , 5.0000001]])"
            ]
          },
          "metadata": {},
          "execution_count": 99
        }
      ]
    },
    {
      "cell_type": "code",
      "source": [
        "y = [1, 2, 3, 1, 2, 3]"
      ],
      "metadata": {
        "id": "LdRZr3yglZC6"
      },
      "execution_count": 103,
      "outputs": []
    },
    {
      "cell_type": "code",
      "source": [
        "XTX = X.T.dot(X)\n",
        "XTX"
      ],
      "metadata": {
        "colab": {
          "base_uri": "https://localhost:8080/"
        },
        "id": "i5PuORhxkuEh",
        "outputId": "39be06c9-348e-47a3-ec12-a8b77c450046"
      },
      "execution_count": 100,
      "outputs": [
        {
          "output_type": "execute_result",
          "data": {
            "text/plain": [
              "array([[140.       , 111.       , 111.0000004],\n",
              "       [111.       , 108.       , 108.0000005],\n",
              "       [111.0000004, 108.0000005, 108.000001 ]])"
            ]
          },
          "metadata": {},
          "execution_count": 100
        }
      ]
    },
    {
      "cell_type": "code",
      "source": [
        "XTX_inv = np.linalg.inv(XTX)\n",
        "XTX_inv"
      ],
      "metadata": {
        "colab": {
          "base_uri": "https://localhost:8080/"
        },
        "id": "1kR8qBkik8bL",
        "outputId": "7e162c44-9ef3-4715-9bc6-62232b72b830"
      },
      "execution_count": 102,
      "outputs": [
        {
          "output_type": "execute_result",
          "data": {
            "text/plain": [
              "array([[ 3.92646538e-02, -1.54615164e+05,  1.54615122e+05],\n",
              "       [-1.54615170e+05,  3.51843724e+13, -3.51843721e+13],\n",
              "       [ 1.54615129e+05, -3.51843721e+13,  3.51843718e+13]])"
            ]
          },
          "metadata": {},
          "execution_count": 102
        }
      ]
    },
    {
      "cell_type": "code",
      "source": [
        "XTX_inv.dot(X.T).dot(y)"
      ],
      "metadata": {
        "colab": {
          "base_uri": "https://localhost:8080/"
        },
        "id": "YzhIISbCk8c3",
        "outputId": "59662975-9ec9-4de0-cf70-0a015bd4447c"
      },
      "execution_count": 104,
      "outputs": [
        {
          "output_type": "execute_result",
          "data": {
            "text/plain": [
              "array([ 3.25115862e-01, -4.41093100e+06,  4.41093113e+06])"
            ]
          },
          "metadata": {},
          "execution_count": 104
        }
      ]
    },
    {
      "cell_type": "code",
      "source": [
        "XTX = [\n",
        "    [1, 2, 2],\n",
        "    [2, 1, 1.00000001],\n",
        "    [2, 1.00000001, 1]\n",
        "]\n",
        "\n",
        "XTX = np.array(XTX)\n",
        "XTX"
      ],
      "metadata": {
        "colab": {
          "base_uri": "https://localhost:8080/"
        },
        "id": "MESIk_X9k8fa",
        "outputId": "facc8bb7-83e3-4e9d-b5da-935d4a9651ee"
      },
      "execution_count": 115,
      "outputs": [
        {
          "output_type": "execute_result",
          "data": {
            "text/plain": [
              "array([[1.        , 2.        , 2.        ],\n",
              "       [2.        , 1.        , 1.00000001],\n",
              "       [2.        , 1.00000001, 1.        ]])"
            ]
          },
          "metadata": {},
          "execution_count": 115
        }
      ]
    },
    {
      "cell_type": "code",
      "source": [
        "XTX_inv = np.linalg.inv(XTX)\n",
        "XTX_inv"
      ],
      "metadata": {
        "colab": {
          "base_uri": "https://localhost:8080/"
        },
        "id": "4GSUnhegmMPm",
        "outputId": "8b6327c1-988b-4c75-a077-907531b2ac8c"
      },
      "execution_count": 116,
      "outputs": [
        {
          "output_type": "execute_result",
          "data": {
            "text/plain": [
              "array([[-3.33333336e-01,  3.33333332e-01,  3.33333336e-01],\n",
              "       [ 3.33333334e-01, -5.00000003e+07,  5.00000001e+07],\n",
              "       [ 3.33333333e-01,  5.00000001e+07, -5.00000003e+07]])"
            ]
          },
          "metadata": {},
          "execution_count": 116
        }
      ]
    },
    {
      "cell_type": "code",
      "source": [
        "XTX = XTX + 0.01 * np.eye(3)\n",
        "XTX"
      ],
      "metadata": {
        "colab": {
          "base_uri": "https://localhost:8080/"
        },
        "id": "deXra670mPUn",
        "outputId": "2a63eee7-eab6-4b96-b3d1-7133eb1ee4c8"
      },
      "execution_count": 120,
      "outputs": [
        {
          "output_type": "execute_result",
          "data": {
            "text/plain": [
              "array([[1.01      , 2.        , 2.        ],\n",
              "       [2.        , 1.01      , 1.00000001],\n",
              "       [2.        , 1.00000001, 1.01      ]])"
            ]
          },
          "metadata": {},
          "execution_count": 120
        }
      ]
    },
    {
      "cell_type": "code",
      "source": [
        "XTX_inv = np.linalg.inv(XTX)\n",
        "XTX_inv"
      ],
      "metadata": {
        "colab": {
          "base_uri": "https://localhost:8080/"
        },
        "id": "IoV4lYfimPXG",
        "outputId": "fdc91217-985e-466d-9ffb-d0cc9f3cff81"
      },
      "execution_count": 121,
      "outputs": [
        {
          "output_type": "execute_result",
          "data": {
            "text/plain": [
              "array([[ -0.33668906,   0.33501399,   0.33501399],\n",
              "       [  0.33501399,  49.91545897, -50.08464103],\n",
              "       [  0.33501399, -50.08464103,  49.91545897]])"
            ]
          },
          "metadata": {},
          "execution_count": 121
        }
      ]
    },
    {
      "cell_type": "markdown",
      "source": [
        "## Define Regularization"
      ],
      "metadata": {
        "id": "A-FwxTavkumq"
      }
    },
    {
      "cell_type": "code",
      "source": [
        " def train_linear_regression_reg(X, y, r=0.001):\n",
        "    ones = np.ones(X.shape[0])\n",
        "    X = np.column_stack([ones, X])\n",
        "\n",
        "    XTX = X.T.dot(X)\n",
        "    XTX = XTX + r * np.eye(XTX.shape[0])\n",
        "\n",
        "    XTX_inv = np.linalg.inv(XTX)\n",
        "    w_full = XTX_inv.dot(X.T).dot(y)\n",
        "    \n",
        "    return w_full[0], w_full[1:]"
      ],
      "metadata": {
        "id": "ZG918gNOnRrb"
      },
      "execution_count": 127,
      "outputs": []
    },
    {
      "cell_type": "code",
      "source": [
        "# Train Part\n",
        "X_train = prepare_X(df_train)\n",
        "w0, w = train_linear_regression_reg(X_train, y_train, r=0.01)\n",
        "\n",
        "# Validation Part\n",
        "X_val = prepare_X(df_val)\n",
        "y_pred = w0 + X_val.dot(w)\n",
        "\n",
        "print('validation', rmse(y_val, y_pred))"
      ],
      "metadata": {
        "colab": {
          "base_uri": "https://localhost:8080/"
        },
        "id": "H2tY84-7nRtj",
        "outputId": "77dd333e-fe87-47f7-fe39-b26c40c9d9eb"
      },
      "execution_count": 128,
      "outputs": [
        {
          "output_type": "stream",
          "name": "stdout",
          "text": [
            "validation 0.4565219901433936\n"
          ]
        }
      ]
    },
    {
      "cell_type": "markdown",
      "source": [
        "#2.14 Tuning the Model"
      ],
      "metadata": {
        "id": "ax5K2kfxgWYD"
      }
    },
    {
      "cell_type": "code",
      "source": [
        "for r in [0.0, 0.00000001, 0.0001, 0.001, 0.1, 1, 10]:\n",
        "    X_train = prepare_X(df_train)\n",
        "    w0, w = train_linear_regression_reg(X_train, y_train, r=r)\n",
        "\n",
        "\n",
        "    X_val = prepare_X(df_val)\n",
        "    y_pred = w0 + X_val.dot(w)\n",
        "    score = rmse(y_val, y_pred)\n",
        "\n",
        "    print(r, w0, score)"
      ],
      "metadata": {
        "colab": {
          "base_uri": "https://localhost:8080/"
        },
        "id": "7UrR5VpRn9fY",
        "outputId": "93ceb6ee-3a9a-49f2-eaa5-c665b8c554ac"
      },
      "execution_count": 130,
      "outputs": [
        {
          "output_type": "stream",
          "name": "stdout",
          "text": [
            "0.0 -9107092991959006.0 33.78711080966741\n",
            "1e-08 2865821.6452847715 0.4565218774846792\n",
            "0.0001 6.28305122746401 0.4565170616956799\n",
            "0.001 6.286141879110618 0.4565175086440613\n",
            "0.1 6.191208659041183 0.4565692763017873\n",
            "1 5.634896667897315 0.4572204317997845\n",
            "10 4.283980108966412 0.47014569320996524\n"
          ]
        }
      ]
    },
    {
      "cell_type": "code",
      "source": [
        "r= 0.001\n",
        "X_train = prepare_X(df_train)\n",
        "w0, w = train_linear_regression_reg(X_train, y_train, r=r)\n",
        "\n",
        "\n",
        "X_val = prepare_X(df_val)\n",
        "y_pred = w0 + X_val.dot(w)\n",
        "score = rmse(y_val, y_pred)\n",
        "score"
      ],
      "metadata": {
        "colab": {
          "base_uri": "https://localhost:8080/"
        },
        "id": "3qcZi5GBn9hc",
        "outputId": "76bd44d9-ef9f-4eff-aa01-aa0af5413ccf"
      },
      "execution_count": 131,
      "outputs": [
        {
          "output_type": "execute_result",
          "data": {
            "text/plain": [
              "0.4565175086440613"
            ]
          },
          "metadata": {},
          "execution_count": 131
        }
      ]
    },
    {
      "cell_type": "markdown",
      "source": [
        "#2.15 Using the Model"
      ],
      "metadata": {
        "id": "_293ZwJ7n-Rp"
      }
    },
    {
      "cell_type": "code",
      "source": [
        "df_full_train = pd.concat([df_train, df_val])\n",
        "df_full_train = df_full_train.reset_index(drop=True)\n",
        "df_full_train"
      ],
      "metadata": {
        "colab": {
          "base_uri": "https://localhost:8080/",
          "height": 505
        },
        "id": "SzOfzxWOqS9-",
        "outputId": "9a1b491b-3192-4d55-9ea4-3314882670bc"
      },
      "execution_count": 133,
      "outputs": [
        {
          "output_type": "execute_result",
          "data": {
            "text/plain": [
              "            make                    model  year             engine_fuel_type  \\\n",
              "0      chevrolet                   cobalt  2008             regular_unleaded   \n",
              "1         toyota                   matrix  2012             regular_unleaded   \n",
              "2         subaru                  impreza  2016             regular_unleaded   \n",
              "3     volkswagen                  vanagon  1991             regular_unleaded   \n",
              "4           ford                    f-150  2017     flex-fuel_(unleaded/e85)   \n",
              "...          ...                      ...   ...                          ...   \n",
              "9527       volvo                      v60  2015             regular_unleaded   \n",
              "9528    maserati  granturismo_convertible  2015  premium_unleaded_(required)   \n",
              "9529    cadillac          escalade_hybrid  2013             regular_unleaded   \n",
              "9530  mitsubishi                   lancer  2016             regular_unleaded   \n",
              "9531         kia                  sorento  2015             regular_unleaded   \n",
              "\n",
              "      engine_hp  engine_cylinders transmission_type      driven_wheels  \\\n",
              "0         148.0               4.0            manual  front_wheel_drive   \n",
              "1         132.0               4.0         automatic  front_wheel_drive   \n",
              "2         148.0               4.0         automatic    all_wheel_drive   \n",
              "3          90.0               4.0            manual   rear_wheel_drive   \n",
              "4         385.0               8.0         automatic   four_wheel_drive   \n",
              "...         ...               ...               ...                ...   \n",
              "9527      240.0               4.0         automatic  front_wheel_drive   \n",
              "9528      444.0               8.0         automatic   rear_wheel_drive   \n",
              "9529      332.0               8.0         automatic   rear_wheel_drive   \n",
              "9530      148.0               4.0            manual  front_wheel_drive   \n",
              "9531      290.0               6.0         automatic  front_wheel_drive   \n",
              "\n",
              "      number_of_doors                 market_category vehicle_size  \\\n",
              "0                 2.0                             NaN      compact   \n",
              "1                 4.0                       hatchback      compact   \n",
              "2                 4.0                       hatchback      compact   \n",
              "3                 3.0                             NaN        large   \n",
              "4                 4.0                       flex_fuel        large   \n",
              "...               ...                             ...          ...   \n",
              "9527              4.0                          luxury      midsize   \n",
              "9528              2.0  exotic,luxury,high-performance      midsize   \n",
              "9529              4.0                   luxury,hybrid        large   \n",
              "9530              4.0                             NaN      compact   \n",
              "9531              4.0                       crossover      midsize   \n",
              "\n",
              "          vehicle_style  highway_mpg  city_mpg  popularity  \n",
              "0                 coupe           33        24        1385  \n",
              "1         4dr_hatchback           32        25        2031  \n",
              "2         4dr_hatchback           37        28         640  \n",
              "3     passenger_minivan           18        16         873  \n",
              "4       crew_cab_pickup           21        15        5657  \n",
              "...                 ...          ...       ...         ...  \n",
              "9527              wagon           37        25         870  \n",
              "9528        convertible           20        13         238  \n",
              "9529            4dr_suv           23        20        1624  \n",
              "9530              sedan           34        24         436  \n",
              "9531            4dr_suv           25        18        1720  \n",
              "\n",
              "[9532 rows x 15 columns]"
            ],
            "text/html": [
              "\n",
              "  <div id=\"df-d78d3aef-adcb-43d3-868d-6f1a117bcaa6\">\n",
              "    <div class=\"colab-df-container\">\n",
              "      <div>\n",
              "<style scoped>\n",
              "    .dataframe tbody tr th:only-of-type {\n",
              "        vertical-align: middle;\n",
              "    }\n",
              "\n",
              "    .dataframe tbody tr th {\n",
              "        vertical-align: top;\n",
              "    }\n",
              "\n",
              "    .dataframe thead th {\n",
              "        text-align: right;\n",
              "    }\n",
              "</style>\n",
              "<table border=\"1\" class=\"dataframe\">\n",
              "  <thead>\n",
              "    <tr style=\"text-align: right;\">\n",
              "      <th></th>\n",
              "      <th>make</th>\n",
              "      <th>model</th>\n",
              "      <th>year</th>\n",
              "      <th>engine_fuel_type</th>\n",
              "      <th>engine_hp</th>\n",
              "      <th>engine_cylinders</th>\n",
              "      <th>transmission_type</th>\n",
              "      <th>driven_wheels</th>\n",
              "      <th>number_of_doors</th>\n",
              "      <th>market_category</th>\n",
              "      <th>vehicle_size</th>\n",
              "      <th>vehicle_style</th>\n",
              "      <th>highway_mpg</th>\n",
              "      <th>city_mpg</th>\n",
              "      <th>popularity</th>\n",
              "    </tr>\n",
              "  </thead>\n",
              "  <tbody>\n",
              "    <tr>\n",
              "      <th>0</th>\n",
              "      <td>chevrolet</td>\n",
              "      <td>cobalt</td>\n",
              "      <td>2008</td>\n",
              "      <td>regular_unleaded</td>\n",
              "      <td>148.0</td>\n",
              "      <td>4.0</td>\n",
              "      <td>manual</td>\n",
              "      <td>front_wheel_drive</td>\n",
              "      <td>2.0</td>\n",
              "      <td>NaN</td>\n",
              "      <td>compact</td>\n",
              "      <td>coupe</td>\n",
              "      <td>33</td>\n",
              "      <td>24</td>\n",
              "      <td>1385</td>\n",
              "    </tr>\n",
              "    <tr>\n",
              "      <th>1</th>\n",
              "      <td>toyota</td>\n",
              "      <td>matrix</td>\n",
              "      <td>2012</td>\n",
              "      <td>regular_unleaded</td>\n",
              "      <td>132.0</td>\n",
              "      <td>4.0</td>\n",
              "      <td>automatic</td>\n",
              "      <td>front_wheel_drive</td>\n",
              "      <td>4.0</td>\n",
              "      <td>hatchback</td>\n",
              "      <td>compact</td>\n",
              "      <td>4dr_hatchback</td>\n",
              "      <td>32</td>\n",
              "      <td>25</td>\n",
              "      <td>2031</td>\n",
              "    </tr>\n",
              "    <tr>\n",
              "      <th>2</th>\n",
              "      <td>subaru</td>\n",
              "      <td>impreza</td>\n",
              "      <td>2016</td>\n",
              "      <td>regular_unleaded</td>\n",
              "      <td>148.0</td>\n",
              "      <td>4.0</td>\n",
              "      <td>automatic</td>\n",
              "      <td>all_wheel_drive</td>\n",
              "      <td>4.0</td>\n",
              "      <td>hatchback</td>\n",
              "      <td>compact</td>\n",
              "      <td>4dr_hatchback</td>\n",
              "      <td>37</td>\n",
              "      <td>28</td>\n",
              "      <td>640</td>\n",
              "    </tr>\n",
              "    <tr>\n",
              "      <th>3</th>\n",
              "      <td>volkswagen</td>\n",
              "      <td>vanagon</td>\n",
              "      <td>1991</td>\n",
              "      <td>regular_unleaded</td>\n",
              "      <td>90.0</td>\n",
              "      <td>4.0</td>\n",
              "      <td>manual</td>\n",
              "      <td>rear_wheel_drive</td>\n",
              "      <td>3.0</td>\n",
              "      <td>NaN</td>\n",
              "      <td>large</td>\n",
              "      <td>passenger_minivan</td>\n",
              "      <td>18</td>\n",
              "      <td>16</td>\n",
              "      <td>873</td>\n",
              "    </tr>\n",
              "    <tr>\n",
              "      <th>4</th>\n",
              "      <td>ford</td>\n",
              "      <td>f-150</td>\n",
              "      <td>2017</td>\n",
              "      <td>flex-fuel_(unleaded/e85)</td>\n",
              "      <td>385.0</td>\n",
              "      <td>8.0</td>\n",
              "      <td>automatic</td>\n",
              "      <td>four_wheel_drive</td>\n",
              "      <td>4.0</td>\n",
              "      <td>flex_fuel</td>\n",
              "      <td>large</td>\n",
              "      <td>crew_cab_pickup</td>\n",
              "      <td>21</td>\n",
              "      <td>15</td>\n",
              "      <td>5657</td>\n",
              "    </tr>\n",
              "    <tr>\n",
              "      <th>...</th>\n",
              "      <td>...</td>\n",
              "      <td>...</td>\n",
              "      <td>...</td>\n",
              "      <td>...</td>\n",
              "      <td>...</td>\n",
              "      <td>...</td>\n",
              "      <td>...</td>\n",
              "      <td>...</td>\n",
              "      <td>...</td>\n",
              "      <td>...</td>\n",
              "      <td>...</td>\n",
              "      <td>...</td>\n",
              "      <td>...</td>\n",
              "      <td>...</td>\n",
              "      <td>...</td>\n",
              "    </tr>\n",
              "    <tr>\n",
              "      <th>9527</th>\n",
              "      <td>volvo</td>\n",
              "      <td>v60</td>\n",
              "      <td>2015</td>\n",
              "      <td>regular_unleaded</td>\n",
              "      <td>240.0</td>\n",
              "      <td>4.0</td>\n",
              "      <td>automatic</td>\n",
              "      <td>front_wheel_drive</td>\n",
              "      <td>4.0</td>\n",
              "      <td>luxury</td>\n",
              "      <td>midsize</td>\n",
              "      <td>wagon</td>\n",
              "      <td>37</td>\n",
              "      <td>25</td>\n",
              "      <td>870</td>\n",
              "    </tr>\n",
              "    <tr>\n",
              "      <th>9528</th>\n",
              "      <td>maserati</td>\n",
              "      <td>granturismo_convertible</td>\n",
              "      <td>2015</td>\n",
              "      <td>premium_unleaded_(required)</td>\n",
              "      <td>444.0</td>\n",
              "      <td>8.0</td>\n",
              "      <td>automatic</td>\n",
              "      <td>rear_wheel_drive</td>\n",
              "      <td>2.0</td>\n",
              "      <td>exotic,luxury,high-performance</td>\n",
              "      <td>midsize</td>\n",
              "      <td>convertible</td>\n",
              "      <td>20</td>\n",
              "      <td>13</td>\n",
              "      <td>238</td>\n",
              "    </tr>\n",
              "    <tr>\n",
              "      <th>9529</th>\n",
              "      <td>cadillac</td>\n",
              "      <td>escalade_hybrid</td>\n",
              "      <td>2013</td>\n",
              "      <td>regular_unleaded</td>\n",
              "      <td>332.0</td>\n",
              "      <td>8.0</td>\n",
              "      <td>automatic</td>\n",
              "      <td>rear_wheel_drive</td>\n",
              "      <td>4.0</td>\n",
              "      <td>luxury,hybrid</td>\n",
              "      <td>large</td>\n",
              "      <td>4dr_suv</td>\n",
              "      <td>23</td>\n",
              "      <td>20</td>\n",
              "      <td>1624</td>\n",
              "    </tr>\n",
              "    <tr>\n",
              "      <th>9530</th>\n",
              "      <td>mitsubishi</td>\n",
              "      <td>lancer</td>\n",
              "      <td>2016</td>\n",
              "      <td>regular_unleaded</td>\n",
              "      <td>148.0</td>\n",
              "      <td>4.0</td>\n",
              "      <td>manual</td>\n",
              "      <td>front_wheel_drive</td>\n",
              "      <td>4.0</td>\n",
              "      <td>NaN</td>\n",
              "      <td>compact</td>\n",
              "      <td>sedan</td>\n",
              "      <td>34</td>\n",
              "      <td>24</td>\n",
              "      <td>436</td>\n",
              "    </tr>\n",
              "    <tr>\n",
              "      <th>9531</th>\n",
              "      <td>kia</td>\n",
              "      <td>sorento</td>\n",
              "      <td>2015</td>\n",
              "      <td>regular_unleaded</td>\n",
              "      <td>290.0</td>\n",
              "      <td>6.0</td>\n",
              "      <td>automatic</td>\n",
              "      <td>front_wheel_drive</td>\n",
              "      <td>4.0</td>\n",
              "      <td>crossover</td>\n",
              "      <td>midsize</td>\n",
              "      <td>4dr_suv</td>\n",
              "      <td>25</td>\n",
              "      <td>18</td>\n",
              "      <td>1720</td>\n",
              "    </tr>\n",
              "  </tbody>\n",
              "</table>\n",
              "<p>9532 rows × 15 columns</p>\n",
              "</div>\n",
              "      <button class=\"colab-df-convert\" onclick=\"convertToInteractive('df-d78d3aef-adcb-43d3-868d-6f1a117bcaa6')\"\n",
              "              title=\"Convert this dataframe to an interactive table.\"\n",
              "              style=\"display:none;\">\n",
              "        \n",
              "  <svg xmlns=\"http://www.w3.org/2000/svg\" height=\"24px\"viewBox=\"0 0 24 24\"\n",
              "       width=\"24px\">\n",
              "    <path d=\"M0 0h24v24H0V0z\" fill=\"none\"/>\n",
              "    <path d=\"M18.56 5.44l.94 2.06.94-2.06 2.06-.94-2.06-.94-.94-2.06-.94 2.06-2.06.94zm-11 1L8.5 8.5l.94-2.06 2.06-.94-2.06-.94L8.5 2.5l-.94 2.06-2.06.94zm10 10l.94 2.06.94-2.06 2.06-.94-2.06-.94-.94-2.06-.94 2.06-2.06.94z\"/><path d=\"M17.41 7.96l-1.37-1.37c-.4-.4-.92-.59-1.43-.59-.52 0-1.04.2-1.43.59L10.3 9.45l-7.72 7.72c-.78.78-.78 2.05 0 2.83L4 21.41c.39.39.9.59 1.41.59.51 0 1.02-.2 1.41-.59l7.78-7.78 2.81-2.81c.8-.78.8-2.07 0-2.86zM5.41 20L4 18.59l7.72-7.72 1.47 1.35L5.41 20z\"/>\n",
              "  </svg>\n",
              "      </button>\n",
              "      \n",
              "  <style>\n",
              "    .colab-df-container {\n",
              "      display:flex;\n",
              "      flex-wrap:wrap;\n",
              "      gap: 12px;\n",
              "    }\n",
              "\n",
              "    .colab-df-convert {\n",
              "      background-color: #E8F0FE;\n",
              "      border: none;\n",
              "      border-radius: 50%;\n",
              "      cursor: pointer;\n",
              "      display: none;\n",
              "      fill: #1967D2;\n",
              "      height: 32px;\n",
              "      padding: 0 0 0 0;\n",
              "      width: 32px;\n",
              "    }\n",
              "\n",
              "    .colab-df-convert:hover {\n",
              "      background-color: #E2EBFA;\n",
              "      box-shadow: 0px 1px 2px rgba(60, 64, 67, 0.3), 0px 1px 3px 1px rgba(60, 64, 67, 0.15);\n",
              "      fill: #174EA6;\n",
              "    }\n",
              "\n",
              "    [theme=dark] .colab-df-convert {\n",
              "      background-color: #3B4455;\n",
              "      fill: #D2E3FC;\n",
              "    }\n",
              "\n",
              "    [theme=dark] .colab-df-convert:hover {\n",
              "      background-color: #434B5C;\n",
              "      box-shadow: 0px 1px 3px 1px rgba(0, 0, 0, 0.15);\n",
              "      filter: drop-shadow(0px 1px 2px rgba(0, 0, 0, 0.3));\n",
              "      fill: #FFFFFF;\n",
              "    }\n",
              "  </style>\n",
              "\n",
              "      <script>\n",
              "        const buttonEl =\n",
              "          document.querySelector('#df-d78d3aef-adcb-43d3-868d-6f1a117bcaa6 button.colab-df-convert');\n",
              "        buttonEl.style.display =\n",
              "          google.colab.kernel.accessAllowed ? 'block' : 'none';\n",
              "\n",
              "        async function convertToInteractive(key) {\n",
              "          const element = document.querySelector('#df-d78d3aef-adcb-43d3-868d-6f1a117bcaa6');\n",
              "          const dataTable =\n",
              "            await google.colab.kernel.invokeFunction('convertToInteractive',\n",
              "                                                     [key], {});\n",
              "          if (!dataTable) return;\n",
              "\n",
              "          const docLinkHtml = 'Like what you see? Visit the ' +\n",
              "            '<a target=\"_blank\" href=https://colab.research.google.com/notebooks/data_table.ipynb>data table notebook</a>'\n",
              "            + ' to learn more about interactive tables.';\n",
              "          element.innerHTML = '';\n",
              "          dataTable['output_type'] = 'display_data';\n",
              "          await google.colab.output.renderOutput(dataTable, element);\n",
              "          const docLink = document.createElement('div');\n",
              "          docLink.innerHTML = docLinkHtml;\n",
              "          element.appendChild(docLink);\n",
              "        }\n",
              "      </script>\n",
              "    </div>\n",
              "  </div>\n",
              "  "
            ]
          },
          "metadata": {},
          "execution_count": 133
        }
      ]
    },
    {
      "cell_type": "code",
      "source": [
        "X_full_train = prepare_X(df_full_train)\n",
        "X_full_train"
      ],
      "metadata": {
        "colab": {
          "base_uri": "https://localhost:8080/"
        },
        "id": "5EIz5A6nqTAc",
        "outputId": "150e5d95-aa06-4f75-8d17-11de1a0f808b"
      },
      "execution_count": 134,
      "outputs": [
        {
          "output_type": "execute_result",
          "data": {
            "text/plain": [
              "array([[148.,   4.,  33., ...,   1.,   0.,   0.],\n",
              "       [132.,   4.,  32., ...,   0.,   0.,   1.],\n",
              "       [148.,   4.,  37., ...,   0.,   0.,   1.],\n",
              "       ...,\n",
              "       [332.,   8.,  23., ...,   0.,   0.,   0.],\n",
              "       [148.,   4.,  34., ...,   0.,   0.,   0.],\n",
              "       [290.,   6.,  25., ...,   0.,   0.,   0.]])"
            ]
          },
          "metadata": {},
          "execution_count": 134
        }
      ]
    },
    {
      "cell_type": "code",
      "source": [
        "y_full_train = np.concatenate([y_train, y_val])\n",
        "y_full_train"
      ],
      "metadata": {
        "colab": {
          "base_uri": "https://localhost:8080/"
        },
        "id": "u0p-uSEbqvae",
        "outputId": "11c78509-5975-42f6-c8eb-60cf60345c06"
      },
      "execution_count": 135,
      "outputs": [
        {
          "output_type": "execute_result",
          "data": {
            "text/plain": [
              "array([ 9.57574708,  9.887663  ,  9.89323518, ..., 11.21756062,\n",
              "        9.77542688, 10.1924563 ])"
            ]
          },
          "metadata": {},
          "execution_count": 135
        }
      ]
    },
    {
      "cell_type": "code",
      "source": [
        "w0, w = train_linear_regression_reg(X_full_train, y_full_train, r=0.001)"
      ],
      "metadata": {
        "id": "Ca9Tj9a2qvck"
      },
      "execution_count": 136,
      "outputs": []
    },
    {
      "cell_type": "code",
      "source": [
        "w"
      ],
      "metadata": {
        "colab": {
          "base_uri": "https://localhost:8080/"
        },
        "id": "ktaBtP08qvfC",
        "outputId": "506e54c5-c1d1-4d35-ffab-3748e16548d1"
      },
      "execution_count": 137,
      "outputs": [
        {
          "output_type": "execute_result",
          "data": {
            "text/plain": [
              "array([ 1.52506334e-03,  1.18188699e-01, -6.66105589e-03, -5.33413861e-03,\n",
              "       -4.87603207e-05, -9.69091841e-02, -7.92621455e-01, -8.90862661e-01,\n",
              "       -6.35101384e-01, -4.14339221e-02,  1.75560742e-01, -5.78067543e-04,\n",
              "       -1.00563877e-01, -9.27549653e-02, -4.66859156e-01,  7.98659289e-02,\n",
              "       -3.16047705e-01, -5.51981671e-01, -7.89526165e-02,  1.09319189e+00,\n",
              "        9.17884350e-01,  1.14746175e+00,  2.65059753e+00,  5.07821016e-01,\n",
              "        1.62965679e+00,  1.53036085e+00,  1.61753957e+00,  1.54553896e+00,\n",
              "       -9.70559737e-02,  3.73062104e-02, -5.81767480e-02, -2.35940848e-02,\n",
              "       -1.19357157e-02,  2.18895261e+00,  2.07458271e+00,  2.05916686e+00,\n",
              "       -5.00802769e-02,  5.62184639e-02,  1.84794024e-01,  3.32646151e-01,\n",
              "       -1.58817038e-01])"
            ]
          },
          "metadata": {},
          "execution_count": 137
        }
      ]
    },
    {
      "cell_type": "code",
      "source": [
        "X_test = prepare_X(df_test)\n",
        "y_pred = w0 + X_test.dot(w)\n",
        "score = rmse(y_test, y_pred)\n",
        "score"
      ],
      "metadata": {
        "colab": {
          "base_uri": "https://localhost:8080/"
        },
        "id": "Jio-iNrdqvhZ",
        "outputId": "bf24405e-1b84-4632-9c23-06ea542a8ad7"
      },
      "execution_count": 138,
      "outputs": [
        {
          "output_type": "execute_result",
          "data": {
            "text/plain": [
              "0.4517749310405807"
            ]
          },
          "metadata": {},
          "execution_count": 138
        }
      ]
    },
    {
      "cell_type": "markdown",
      "source": [
        "# Use the Model"
      ],
      "metadata": {
        "id": "zz6rjoV3rTJ5"
      }
    },
    {
      "cell_type": "code",
      "source": [
        "i = 2\n",
        "car = df_test.iloc[i].to_dict()\n",
        "car"
      ],
      "metadata": {
        "colab": {
          "base_uri": "https://localhost:8080/"
        },
        "id": "ruzkNYGff8Us",
        "outputId": "5e04f1fa-9630-46b1-a4bb-201fc6d8d32d"
      },
      "execution_count": 142,
      "outputs": [
        {
          "output_type": "execute_result",
          "data": {
            "text/plain": [
              "{'make': 'toyota',\n",
              " 'model': 'venza',\n",
              " 'year': 2013,\n",
              " 'engine_fuel_type': 'regular_unleaded',\n",
              " 'engine_hp': 268.0,\n",
              " 'engine_cylinders': 6.0,\n",
              " 'transmission_type': 'automatic',\n",
              " 'driven_wheels': 'all_wheel_drive',\n",
              " 'number_of_doors': 4.0,\n",
              " 'market_category': 'crossover,performance',\n",
              " 'vehicle_size': 'midsize',\n",
              " 'vehicle_style': 'wagon',\n",
              " 'highway_mpg': 25,\n",
              " 'city_mpg': 18,\n",
              " 'popularity': 2031}"
            ]
          },
          "metadata": {},
          "execution_count": 142
        }
      ]
    },
    {
      "cell_type": "code",
      "source": [
        "df_small = pd.DataFrame([car])\n",
        "df_small"
      ],
      "metadata": {
        "colab": {
          "base_uri": "https://localhost:8080/",
          "height": 145
        },
        "id": "B3VenxaXsDcc",
        "outputId": "a0991a8a-de55-4b58-9a78-998e788a0c12"
      },
      "execution_count": 143,
      "outputs": [
        {
          "output_type": "execute_result",
          "data": {
            "text/plain": [
              "     make  model  year  engine_fuel_type  engine_hp  engine_cylinders  \\\n",
              "0  toyota  venza  2013  regular_unleaded      268.0               6.0   \n",
              "\n",
              "  transmission_type    driven_wheels  number_of_doors        market_category  \\\n",
              "0         automatic  all_wheel_drive              4.0  crossover,performance   \n",
              "\n",
              "  vehicle_size vehicle_style  highway_mpg  city_mpg  popularity  \n",
              "0      midsize         wagon           25        18        2031  "
            ],
            "text/html": [
              "\n",
              "  <div id=\"df-09e54f0d-5fe6-49d6-bcfa-3e8fbee9d02a\">\n",
              "    <div class=\"colab-df-container\">\n",
              "      <div>\n",
              "<style scoped>\n",
              "    .dataframe tbody tr th:only-of-type {\n",
              "        vertical-align: middle;\n",
              "    }\n",
              "\n",
              "    .dataframe tbody tr th {\n",
              "        vertical-align: top;\n",
              "    }\n",
              "\n",
              "    .dataframe thead th {\n",
              "        text-align: right;\n",
              "    }\n",
              "</style>\n",
              "<table border=\"1\" class=\"dataframe\">\n",
              "  <thead>\n",
              "    <tr style=\"text-align: right;\">\n",
              "      <th></th>\n",
              "      <th>make</th>\n",
              "      <th>model</th>\n",
              "      <th>year</th>\n",
              "      <th>engine_fuel_type</th>\n",
              "      <th>engine_hp</th>\n",
              "      <th>engine_cylinders</th>\n",
              "      <th>transmission_type</th>\n",
              "      <th>driven_wheels</th>\n",
              "      <th>number_of_doors</th>\n",
              "      <th>market_category</th>\n",
              "      <th>vehicle_size</th>\n",
              "      <th>vehicle_style</th>\n",
              "      <th>highway_mpg</th>\n",
              "      <th>city_mpg</th>\n",
              "      <th>popularity</th>\n",
              "    </tr>\n",
              "  </thead>\n",
              "  <tbody>\n",
              "    <tr>\n",
              "      <th>0</th>\n",
              "      <td>toyota</td>\n",
              "      <td>venza</td>\n",
              "      <td>2013</td>\n",
              "      <td>regular_unleaded</td>\n",
              "      <td>268.0</td>\n",
              "      <td>6.0</td>\n",
              "      <td>automatic</td>\n",
              "      <td>all_wheel_drive</td>\n",
              "      <td>4.0</td>\n",
              "      <td>crossover,performance</td>\n",
              "      <td>midsize</td>\n",
              "      <td>wagon</td>\n",
              "      <td>25</td>\n",
              "      <td>18</td>\n",
              "      <td>2031</td>\n",
              "    </tr>\n",
              "  </tbody>\n",
              "</table>\n",
              "</div>\n",
              "      <button class=\"colab-df-convert\" onclick=\"convertToInteractive('df-09e54f0d-5fe6-49d6-bcfa-3e8fbee9d02a')\"\n",
              "              title=\"Convert this dataframe to an interactive table.\"\n",
              "              style=\"display:none;\">\n",
              "        \n",
              "  <svg xmlns=\"http://www.w3.org/2000/svg\" height=\"24px\"viewBox=\"0 0 24 24\"\n",
              "       width=\"24px\">\n",
              "    <path d=\"M0 0h24v24H0V0z\" fill=\"none\"/>\n",
              "    <path d=\"M18.56 5.44l.94 2.06.94-2.06 2.06-.94-2.06-.94-.94-2.06-.94 2.06-2.06.94zm-11 1L8.5 8.5l.94-2.06 2.06-.94-2.06-.94L8.5 2.5l-.94 2.06-2.06.94zm10 10l.94 2.06.94-2.06 2.06-.94-2.06-.94-.94-2.06-.94 2.06-2.06.94z\"/><path d=\"M17.41 7.96l-1.37-1.37c-.4-.4-.92-.59-1.43-.59-.52 0-1.04.2-1.43.59L10.3 9.45l-7.72 7.72c-.78.78-.78 2.05 0 2.83L4 21.41c.39.39.9.59 1.41.59.51 0 1.02-.2 1.41-.59l7.78-7.78 2.81-2.81c.8-.78.8-2.07 0-2.86zM5.41 20L4 18.59l7.72-7.72 1.47 1.35L5.41 20z\"/>\n",
              "  </svg>\n",
              "      </button>\n",
              "      \n",
              "  <style>\n",
              "    .colab-df-container {\n",
              "      display:flex;\n",
              "      flex-wrap:wrap;\n",
              "      gap: 12px;\n",
              "    }\n",
              "\n",
              "    .colab-df-convert {\n",
              "      background-color: #E8F0FE;\n",
              "      border: none;\n",
              "      border-radius: 50%;\n",
              "      cursor: pointer;\n",
              "      display: none;\n",
              "      fill: #1967D2;\n",
              "      height: 32px;\n",
              "      padding: 0 0 0 0;\n",
              "      width: 32px;\n",
              "    }\n",
              "\n",
              "    .colab-df-convert:hover {\n",
              "      background-color: #E2EBFA;\n",
              "      box-shadow: 0px 1px 2px rgba(60, 64, 67, 0.3), 0px 1px 3px 1px rgba(60, 64, 67, 0.15);\n",
              "      fill: #174EA6;\n",
              "    }\n",
              "\n",
              "    [theme=dark] .colab-df-convert {\n",
              "      background-color: #3B4455;\n",
              "      fill: #D2E3FC;\n",
              "    }\n",
              "\n",
              "    [theme=dark] .colab-df-convert:hover {\n",
              "      background-color: #434B5C;\n",
              "      box-shadow: 0px 1px 3px 1px rgba(0, 0, 0, 0.15);\n",
              "      filter: drop-shadow(0px 1px 2px rgba(0, 0, 0, 0.3));\n",
              "      fill: #FFFFFF;\n",
              "    }\n",
              "  </style>\n",
              "\n",
              "      <script>\n",
              "        const buttonEl =\n",
              "          document.querySelector('#df-09e54f0d-5fe6-49d6-bcfa-3e8fbee9d02a button.colab-df-convert');\n",
              "        buttonEl.style.display =\n",
              "          google.colab.kernel.accessAllowed ? 'block' : 'none';\n",
              "\n",
              "        async function convertToInteractive(key) {\n",
              "          const element = document.querySelector('#df-09e54f0d-5fe6-49d6-bcfa-3e8fbee9d02a');\n",
              "          const dataTable =\n",
              "            await google.colab.kernel.invokeFunction('convertToInteractive',\n",
              "                                                     [key], {});\n",
              "          if (!dataTable) return;\n",
              "\n",
              "          const docLinkHtml = 'Like what you see? Visit the ' +\n",
              "            '<a target=\"_blank\" href=https://colab.research.google.com/notebooks/data_table.ipynb>data table notebook</a>'\n",
              "            + ' to learn more about interactive tables.';\n",
              "          element.innerHTML = '';\n",
              "          dataTable['output_type'] = 'display_data';\n",
              "          await google.colab.output.renderOutput(dataTable, element);\n",
              "          const docLink = document.createElement('div');\n",
              "          docLink.innerHTML = docLinkHtml;\n",
              "          element.appendChild(docLink);\n",
              "        }\n",
              "      </script>\n",
              "    </div>\n",
              "  </div>\n",
              "  "
            ]
          },
          "metadata": {},
          "execution_count": 143
        }
      ]
    },
    {
      "cell_type": "code",
      "source": [
        "X_small = prepare_X(df_small)"
      ],
      "metadata": {
        "id": "64AJYll8r-jM"
      },
      "execution_count": 144,
      "outputs": []
    },
    {
      "cell_type": "code",
      "source": [
        "y_pred = w0 + X_small.dot(w)\n",
        "y_pred = y_pred[0]\n",
        "y_pred"
      ],
      "metadata": {
        "colab": {
          "base_uri": "https://localhost:8080/"
        },
        "id": "Bv-eYQI0sLJd",
        "outputId": "82d329d4-3e8f-493d-ec85-e09462d30556"
      },
      "execution_count": 147,
      "outputs": [
        {
          "output_type": "execute_result",
          "data": {
            "text/plain": [
              "10.275182079886376"
            ]
          },
          "metadata": {},
          "execution_count": 147
        }
      ]
    },
    {
      "cell_type": "code",
      "source": [
        "np.expm1(y_pred)"
      ],
      "metadata": {
        "colab": {
          "base_uri": "https://localhost:8080/"
        },
        "id": "QmGzZKd7sPv-",
        "outputId": "f425fa8e-153c-408a-d2de-cdd3314a31dd"
      },
      "execution_count": 148,
      "outputs": [
        {
          "output_type": "execute_result",
          "data": {
            "text/plain": [
              "29002.798405350062"
            ]
          },
          "metadata": {},
          "execution_count": 148
        }
      ]
    },
    {
      "cell_type": "code",
      "source": [
        "y_test[20]"
      ],
      "metadata": {
        "colab": {
          "base_uri": "https://localhost:8080/"
        },
        "id": "LQnN5AMfsYZt",
        "outputId": "dfffec32-a8fc-4fea-baaf-5b744f4e1de1"
      },
      "execution_count": 149,
      "outputs": [
        {
          "output_type": "execute_result",
          "data": {
            "text/plain": [
              "10.463131911491967"
            ]
          },
          "metadata": {},
          "execution_count": 149
        }
      ]
    },
    {
      "cell_type": "code",
      "source": [
        "np.expm1(y_test[20])"
      ],
      "metadata": {
        "colab": {
          "base_uri": "https://localhost:8080/"
        },
        "id": "qQlmt1gLscNE",
        "outputId": "33d84db0-2132-4afc-a532-bb83e1a145d3"
      },
      "execution_count": 150,
      "outputs": [
        {
          "output_type": "execute_result",
          "data": {
            "text/plain": [
              "35000.00000000001"
            ]
          },
          "metadata": {},
          "execution_count": 150
        }
      ]
    }
  ]
}